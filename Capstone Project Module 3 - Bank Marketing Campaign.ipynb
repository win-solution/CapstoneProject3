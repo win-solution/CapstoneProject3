{
 "cells": [
  {
   "cell_type": "markdown",
   "metadata": {
    "id": "aZXerW7hQW5W"
   },
   "source": [
    "# Bank Marketing Campaign"
   ]
  },
  {
   "cell_type": "markdown",
   "metadata": {
    "id": "7JyPzHelQW5a"
   },
   "source": [
    "## Pemahaman Masalah Bisnis (Understanding of Business Problems)"
   ]
  },
  {
   "cell_type": "markdown",
   "metadata": {
    "id": "OwCFnhoXQW5a"
   },
   "source": [
    "**Konteks**  \n",
    "\n",
    "Bank XYZ merupakan salah satu bank swasta terbesar di Indonesia yang memiliki berbagai macam produk keuangan. Salah satu produk keuangan yang ditawarkan oleh Bank XYZ adalah deposito berjangka. Ketika seorang nasabah mendepositokan sejumlah uang kepada Bank XYZ, maka uang tersebut baru bisa diambil setelah jangka waktu tertentu. Nasabah akan mendapatkan kompensasi berupa bunga dengan besaran persentase yang disesuaikan dengan nominal uang yang didepositokan.\n",
    "\n",
    "Sebagai sebuah badan usaha, Bank XYZ tentunya berusaha agar tidak kalah saing dengan bank lainnya sehingga Bank XYZ perlu melakukan *marketing campaing* supaya nasabah mau mendepositokan uangnya di Bank XYZ. Bank XYZ ingin *marketing campaign* yang akan dilakukan mampu menggaet sebanyak mungkin nasabah untuk mendepositokan uangnya. Oleh sebab itu, Tim Marketing di Bank XYZ meminta Tim Data Analisis untuk mencoba mengolah data nasabah dan mempresentasikan hasil pengolahan data tersebut untuk membantu tim marketing dalam menyusun marketing campaign.\n",
    "\n",
    "**Target**\n",
    "\n",
    "0: Nasabah yang tidak akan mengambil deposito berjangka<br>\n",
    "1: Nasabah yang akan mengambil deposito berjangka"
   ]
  },
  {
   "cell_type": "markdown",
   "metadata": {
    "id": "veT1JeGqQW5b"
   },
   "source": [
    "**Pernyataan Masalah (Problem Statement)**\n",
    "\n",
    "Jika Tim Marketing Bank XYZ langsung menargetkan semua nasabah yang dimiliki tanpa adanya *selection* atau penyaringan, maka *marketing campaign* akan menghabiskan waktu dan sumber daya yang tidak sedikit. Efisiensi marketing dapat dilakukan dengan mengetahui tipe nasabah mana yang memiliki kencenderungan untuk mau membuka deposito berjangka.\n",
    "\n",
    "**Goal**\n",
    "\n",
    "Berdasarkan pernyataan masalah yang telah dijabarkan, Tim Marketing Bank XYZ ingin memprediksi kemungkinan seorang nasabah akan/mau membuka deposito berjangka atau tidak, sehingga *marketing campaign* dapat difokuskan kepada nasabah yang tertarik untuk membuka deposito berjangka di Bank XYZ.\n",
    "\n",
    "Selain itu, Tim Marketing ingin mengetahui faktor/variabel apa yang membuat seorang nasabah tertarik untuk mengambil deposito berjangka atau tidak, sehingga mereka dapat membuat rencana yang lebih baik dalam mendekati nasabah potensial (nasabah yang ingin membuka deposito berjangka di bank mereka).\n",
    "\n",
    "**Pendekatan Analitik (Analytic Approach)**\n",
    "\n",
    "Tim Data Analysis akan mengolah dana menganalisis data nasabah Bank XYZ untuk menemukan pola yang membedakan antara nasabah yang mau mengambil deposito berjangka dan yang tidak mau. Setelah itu, Tim Data Analysis akan membangun model klasifikasi yang akan membantu Tim Marketing untuk dapat memprediksi probabilitas seorang nasabah akan/mau mengambil deposito berjangka atau tidak."
   ]
  },
  {
   "cell_type": "markdown",
   "metadata": {
    "id": "UoF5SblBQW5b"
   },
   "source": [
    "**Metric Evaluation**"
   ]
  },
  {
   "cell_type": "markdown",
   "metadata": {
    "id": "bnacV348QW5c"
   },
   "source": [
    "Type I error: False Positive (FP)  \n",
    "Konsekuensi: sia-sianya biaya, waktu dan sumber daya untuk melakukan *marketing campaign*\n",
    "\n",
    "Type II error: False Negative (FN)  \n",
    "Konsekuensi: kehilangan calon nasabah deposito berjangka\n",
    "\n",
    "Dengan adanya konsekuensi yang dinyatakan di kedua tipe error di atas, model yang dibuat sebisa mungkin mengurangi biaya *marketing campaign* Bank XYZ tanpa membuat jumlah nasabah deposito berjangka yang didapatkan kurang atau terlalu sedikit. Hasil prediksi yang diinginkan adalah sebanyak mungkin prediksi *true positive* dan sekecil mungkin prediksi *false positive* dan metric evaluasi utama yang digunakan adalah roc_auc."
   ]
  },
  {
   "cell_type": "markdown",
   "metadata": {
    "id": "QDIGkTQyQW5d"
   },
   "source": [
    "## Pemahaman Data (Data Understanding)"
   ]
  },
  {
   "cell_type": "markdown",
   "metadata": {
    "id": "T2LuUsU_QW5d"
   },
   "source": [
    "Sumber dataset: https://drive.google.com/drive/folders/13lrEDlKfnTPNREfGLBaYGYf8dSjHBzfW"
   ]
  },
  {
   "cell_type": "markdown",
   "metadata": {
    "id": "pqyjZgv9QW5e"
   },
   "source": [
    "Catatan (notes):\n",
    "- Dataset tidak seimbang (imbalance)\n",
    "- Sebagian besar fitur bersifat kategori (nominal, ordinal, dan binary), beberapa dengan kardinalitas tinggi\n",
    "- Setiap baris data merepresentasikan informasi seorang nasabah yang ditawarkan deposito berjangka di masa lalu"
   ]
  },
  {
   "cell_type": "markdown",
   "metadata": {
    "id": "VAAjz0xOQW5f"
   },
   "source": [
    "### Attribute Information\n",
    "\n",
    "| Attribute | Data Type, Length | Description |\n",
    "| --- | --- | --- |\n",
    "| age | Int | Usia Nasabah |\n",
    "| job | Text | Pekerjaan Nasabah |\n",
    "| balance | Int | Saldo Nasabah |\n",
    "| housing | Text | Status Kepemilikan Rumah |\n",
    "| loan | Text | Memiliki Pinjaman atau Tidak |\n",
    "| contact | Text | Sarana Komunikasi/Kontak |\n",
    "| month | Text | Bulan Terkahir Kali Nasabah Dikontak |\n",
    "| campaign | Int | Jumlah Kontak yang Dilakukan untuk Marketing Sebelumnya |\n",
    "| pdays | Int | Jumlah Hari Nasabah Dikontak pada Marketing Sebelumnya |\n",
    "| poutcome | Text | Hasil Marketing Sebelumnya |\n",
    "| deposit | Text | Nasabah Membuka Deposito atau Tidak |"
   ]
  },
  {
   "cell_type": "code",
   "execution_count": 49,
   "metadata": {
    "id": "EjeJcGswQW5f"
   },
   "outputs": [],
   "source": [
    "# Library\n",
    "import pandas as pd\n",
    "import numpy as np\n",
    "\n",
    "# Data visualization\n",
    "import matplotlib.pyplot as plt\n",
    "import seaborn as sns\n",
    "import missingno\n",
    "from IPython.display import display\n",
    "\n",
    "# Feature engineering\n",
    "from sklearn.pipeline import Pipeline\n",
    "from sklearn.impute import SimpleImputer\n",
    "from sklearn.preprocessing import OneHotEncoder, LabelEncoder, OrdinalEncoder\n",
    "from sklearn.compose import ColumnTransformer\n",
    "import category_encoders as ce\n",
    "\n",
    "# Model selection\n",
    "from sklearn.linear_model import LogisticRegression\n",
    "from sklearn.tree import DecisionTreeClassifier\n",
    "from sklearn.model_selection import GridSearchCV,StratifiedKFold,train_test_split, cross_val_score\n",
    "from sklearn.metrics import classification_report, confusion_matrix\n",
    "from sklearn.neighbors import KNeighborsClassifier\n",
    "from sklearn.ensemble import RandomForestClassifier\n",
    "from xgboost import XGBClassifier\n",
    "import lightgbm as lgb\n",
    "from sklearn.metrics import f1_score, accuracy_score, recall_score, precision_score\n",
    "from sklearn.metrics import roc_curve, roc_auc_score\n",
    "\n",
    "# Imbalance dataset\n",
    "from imblearn.pipeline import Pipeline\n",
    "from imblearn.over_sampling import RandomOverSampler\n",
    "\n",
    "# Ignore warning\n",
    "import sys\n",
    "import warnings\n",
    "if not sys.warnoptions:\n",
    "    warnings.simplefilter(\"ignore\")\n",
    "\n",
    "# Set max columns\n",
    "pd.set_option('display.max_columns', None)"
   ]
  },
  {
   "cell_type": "code",
   "execution_count": 50,
   "metadata": {
    "id": "JDWgiWEsQW5g",
    "outputId": "b5d11701-892c-44c5-a6c1-30dbe0b5ae60"
   },
   "outputs": [
    {
     "data": {
      "text/html": [
       "<div>\n",
       "<style scoped>\n",
       "    .dataframe tbody tr th:only-of-type {\n",
       "        vertical-align: middle;\n",
       "    }\n",
       "\n",
       "    .dataframe tbody tr th {\n",
       "        vertical-align: top;\n",
       "    }\n",
       "\n",
       "    .dataframe thead th {\n",
       "        text-align: right;\n",
       "    }\n",
       "</style>\n",
       "<table border=\"1\" class=\"dataframe\">\n",
       "  <thead>\n",
       "    <tr style=\"text-align: right;\">\n",
       "      <th></th>\n",
       "      <th>age</th>\n",
       "      <th>job</th>\n",
       "      <th>balance</th>\n",
       "      <th>housing</th>\n",
       "      <th>loan</th>\n",
       "      <th>contact</th>\n",
       "      <th>month</th>\n",
       "      <th>campaign</th>\n",
       "      <th>pdays</th>\n",
       "      <th>poutcome</th>\n",
       "      <th>deposit</th>\n",
       "    </tr>\n",
       "  </thead>\n",
       "  <tbody>\n",
       "    <tr>\n",
       "      <th>0</th>\n",
       "      <td>55</td>\n",
       "      <td>admin.</td>\n",
       "      <td>1662</td>\n",
       "      <td>no</td>\n",
       "      <td>no</td>\n",
       "      <td>cellular</td>\n",
       "      <td>jun</td>\n",
       "      <td>2</td>\n",
       "      <td>-1</td>\n",
       "      <td>unknown</td>\n",
       "      <td>yes</td>\n",
       "    </tr>\n",
       "    <tr>\n",
       "      <th>1</th>\n",
       "      <td>39</td>\n",
       "      <td>self-employed</td>\n",
       "      <td>-3058</td>\n",
       "      <td>yes</td>\n",
       "      <td>yes</td>\n",
       "      <td>cellular</td>\n",
       "      <td>apr</td>\n",
       "      <td>3</td>\n",
       "      <td>-1</td>\n",
       "      <td>unknown</td>\n",
       "      <td>yes</td>\n",
       "    </tr>\n",
       "    <tr>\n",
       "      <th>2</th>\n",
       "      <td>51</td>\n",
       "      <td>admin.</td>\n",
       "      <td>3025</td>\n",
       "      <td>no</td>\n",
       "      <td>no</td>\n",
       "      <td>cellular</td>\n",
       "      <td>may</td>\n",
       "      <td>1</td>\n",
       "      <td>352</td>\n",
       "      <td>other</td>\n",
       "      <td>yes</td>\n",
       "    </tr>\n",
       "    <tr>\n",
       "      <th>3</th>\n",
       "      <td>38</td>\n",
       "      <td>services</td>\n",
       "      <td>-87</td>\n",
       "      <td>yes</td>\n",
       "      <td>no</td>\n",
       "      <td>cellular</td>\n",
       "      <td>may</td>\n",
       "      <td>1</td>\n",
       "      <td>-1</td>\n",
       "      <td>unknown</td>\n",
       "      <td>no</td>\n",
       "    </tr>\n",
       "    <tr>\n",
       "      <th>4</th>\n",
       "      <td>36</td>\n",
       "      <td>housemaid</td>\n",
       "      <td>205</td>\n",
       "      <td>yes</td>\n",
       "      <td>no</td>\n",
       "      <td>telephone</td>\n",
       "      <td>nov</td>\n",
       "      <td>4</td>\n",
       "      <td>-1</td>\n",
       "      <td>unknown</td>\n",
       "      <td>no</td>\n",
       "    </tr>\n",
       "  </tbody>\n",
       "</table>\n",
       "</div>"
      ],
      "text/plain": [
       "   age            job  balance housing loan    contact month  campaign  pdays  \\\n",
       "0   55         admin.     1662      no   no   cellular   jun         2     -1   \n",
       "1   39  self-employed    -3058     yes  yes   cellular   apr         3     -1   \n",
       "2   51         admin.     3025      no   no   cellular   may         1    352   \n",
       "3   38       services      -87     yes   no   cellular   may         1     -1   \n",
       "4   36      housemaid      205     yes   no  telephone   nov         4     -1   \n",
       "\n",
       "  poutcome deposit  \n",
       "0  unknown     yes  \n",
       "1  unknown     yes  \n",
       "2    other     yes  \n",
       "3  unknown      no  \n",
       "4  unknown      no  "
      ]
     },
     "execution_count": 50,
     "metadata": {},
     "output_type": "execute_result"
    }
   ],
   "source": [
    "# Mengakses dataset\n",
    "df = pd.read_csv(\"data_bank_marketing_campaign.csv\")\n",
    "df.head()"
   ]
  },
  {
   "cell_type": "code",
   "execution_count": 51,
   "metadata": {
    "id": "DQKCeqHHQW5h",
    "outputId": "20431c3c-034b-4e65-f9f5-f7484cfd038c"
   },
   "outputs": [
    {
     "name": "stdout",
     "output_type": "stream",
     "text": [
      "<class 'pandas.core.frame.DataFrame'>\n",
      "RangeIndex: 7813 entries, 0 to 7812\n",
      "Data columns (total 11 columns):\n",
      " #   Column    Non-Null Count  Dtype \n",
      "---  ------    --------------  ----- \n",
      " 0   age       7813 non-null   int64 \n",
      " 1   job       7813 non-null   object\n",
      " 2   balance   7813 non-null   int64 \n",
      " 3   housing   7813 non-null   object\n",
      " 4   loan      7813 non-null   object\n",
      " 5   contact   7813 non-null   object\n",
      " 6   month     7813 non-null   object\n",
      " 7   campaign  7813 non-null   int64 \n",
      " 8   pdays     7813 non-null   int64 \n",
      " 9   poutcome  7813 non-null   object\n",
      " 10  deposit   7813 non-null   object\n",
      "dtypes: int64(4), object(7)\n",
      "memory usage: 671.6+ KB\n"
     ]
    }
   ],
   "source": [
    "# Melihat jumlah kolom dan tipe data\n",
    "df.info()"
   ]
  },
  {
   "cell_type": "markdown",
   "metadata": {
    "id": "m-7UXwEIQW5h"
   },
   "source": [
    "## Pembersihan Data (Data Cleaning)\n",
    "\n",
    "Dataset yang tersedia harus sudah siap pakai dan bebas dari *missing data* sebelum dianalisa dan digunakan untuk pembuatan *machine learning*."
   ]
  },
  {
   "cell_type": "code",
   "execution_count": 52,
   "metadata": {
    "id": "u9mZq0HYQW5i",
    "outputId": "8914be60-5215-49f9-c149-073974c78549"
   },
   "outputs": [
    {
     "data": {
      "text/html": [
       "<div>\n",
       "<style scoped>\n",
       "    .dataframe tbody tr th:only-of-type {\n",
       "        vertical-align: middle;\n",
       "    }\n",
       "\n",
       "    .dataframe tbody tr th {\n",
       "        vertical-align: top;\n",
       "    }\n",
       "\n",
       "    .dataframe thead th {\n",
       "        text-align: right;\n",
       "    }\n",
       "</style>\n",
       "<table border=\"1\" class=\"dataframe\">\n",
       "  <thead>\n",
       "    <tr style=\"text-align: right;\">\n",
       "      <th></th>\n",
       "      <th>dataFeatures</th>\n",
       "      <th>dataType</th>\n",
       "      <th>null</th>\n",
       "      <th>nullPct</th>\n",
       "      <th>unique</th>\n",
       "      <th>uniqueSample</th>\n",
       "    </tr>\n",
       "  </thead>\n",
       "  <tbody>\n",
       "    <tr>\n",
       "      <th>0</th>\n",
       "      <td>age</td>\n",
       "      <td>int64</td>\n",
       "      <td>0</td>\n",
       "      <td>0.0</td>\n",
       "      <td>75</td>\n",
       "      <td>[27, 43]</td>\n",
       "    </tr>\n",
       "    <tr>\n",
       "      <th>1</th>\n",
       "      <td>job</td>\n",
       "      <td>object</td>\n",
       "      <td>0</td>\n",
       "      <td>0.0</td>\n",
       "      <td>12</td>\n",
       "      <td>[blue-collar, management]</td>\n",
       "    </tr>\n",
       "    <tr>\n",
       "      <th>2</th>\n",
       "      <td>balance</td>\n",
       "      <td>int64</td>\n",
       "      <td>0</td>\n",
       "      <td>0.0</td>\n",
       "      <td>3153</td>\n",
       "      <td>[1160, 1495]</td>\n",
       "    </tr>\n",
       "    <tr>\n",
       "      <th>3</th>\n",
       "      <td>housing</td>\n",
       "      <td>object</td>\n",
       "      <td>0</td>\n",
       "      <td>0.0</td>\n",
       "      <td>2</td>\n",
       "      <td>[yes, no]</td>\n",
       "    </tr>\n",
       "    <tr>\n",
       "      <th>4</th>\n",
       "      <td>loan</td>\n",
       "      <td>object</td>\n",
       "      <td>0</td>\n",
       "      <td>0.0</td>\n",
       "      <td>2</td>\n",
       "      <td>[yes, no]</td>\n",
       "    </tr>\n",
       "    <tr>\n",
       "      <th>5</th>\n",
       "      <td>contact</td>\n",
       "      <td>object</td>\n",
       "      <td>0</td>\n",
       "      <td>0.0</td>\n",
       "      <td>3</td>\n",
       "      <td>[telephone, unknown]</td>\n",
       "    </tr>\n",
       "    <tr>\n",
       "      <th>6</th>\n",
       "      <td>month</td>\n",
       "      <td>object</td>\n",
       "      <td>0</td>\n",
       "      <td>0.0</td>\n",
       "      <td>12</td>\n",
       "      <td>[feb, aug]</td>\n",
       "    </tr>\n",
       "    <tr>\n",
       "      <th>7</th>\n",
       "      <td>campaign</td>\n",
       "      <td>int64</td>\n",
       "      <td>0</td>\n",
       "      <td>0.0</td>\n",
       "      <td>32</td>\n",
       "      <td>[8, 30]</td>\n",
       "    </tr>\n",
       "    <tr>\n",
       "      <th>8</th>\n",
       "      <td>pdays</td>\n",
       "      <td>int64</td>\n",
       "      <td>0</td>\n",
       "      <td>0.0</td>\n",
       "      <td>422</td>\n",
       "      <td>[143, 28]</td>\n",
       "    </tr>\n",
       "    <tr>\n",
       "      <th>9</th>\n",
       "      <td>poutcome</td>\n",
       "      <td>object</td>\n",
       "      <td>0</td>\n",
       "      <td>0.0</td>\n",
       "      <td>4</td>\n",
       "      <td>[unknown, other]</td>\n",
       "    </tr>\n",
       "    <tr>\n",
       "      <th>10</th>\n",
       "      <td>deposit</td>\n",
       "      <td>object</td>\n",
       "      <td>0</td>\n",
       "      <td>0.0</td>\n",
       "      <td>2</td>\n",
       "      <td>[yes, no]</td>\n",
       "    </tr>\n",
       "  </tbody>\n",
       "</table>\n",
       "</div>"
      ],
      "text/plain": [
       "   dataFeatures dataType  null  nullPct  unique               uniqueSample\n",
       "0           age    int64     0      0.0      75                   [27, 43]\n",
       "1           job   object     0      0.0      12  [blue-collar, management]\n",
       "2       balance    int64     0      0.0    3153               [1160, 1495]\n",
       "3       housing   object     0      0.0       2                  [yes, no]\n",
       "4          loan   object     0      0.0       2                  [yes, no]\n",
       "5       contact   object     0      0.0       3       [telephone, unknown]\n",
       "6         month   object     0      0.0      12                 [feb, aug]\n",
       "7      campaign    int64     0      0.0      32                    [8, 30]\n",
       "8         pdays    int64     0      0.0     422                  [143, 28]\n",
       "9      poutcome   object     0      0.0       4           [unknown, other]\n",
       "10      deposit   object     0      0.0       2                  [yes, no]"
      ]
     },
     "execution_count": 52,
     "metadata": {},
     "output_type": "execute_result"
    }
   ],
   "source": [
    "ListItem = []\n",
    "for col in df.columns:\n",
    "    ListItem.append([col, df[col].dtype, df[col].isna().sum(), round((df[col].isna().sum()/len(df[col]))*100,2),\n",
    "                    df[col].nunique(), list(df[col].drop_duplicates().sample(2).values)]);\n",
    "\n",
    "dfDesc = pd.DataFrame(columns = ['dataFeatures', 'dataType', 'null', 'nullPct', 'unique', 'uniqueSample'],\n",
    "                      data = ListItem)\n",
    "dfDesc"
   ]
  },
  {
   "cell_type": "code",
   "execution_count": 53,
   "metadata": {},
   "outputs": [
    {
     "data": {
      "text/plain": [
       "age         0.0\n",
       "job         0.0\n",
       "balance     0.0\n",
       "housing     0.0\n",
       "loan        0.0\n",
       "contact     0.0\n",
       "month       0.0\n",
       "campaign    0.0\n",
       "pdays       0.0\n",
       "poutcome    0.0\n",
       "deposit     0.0\n",
       "dtype: float64"
      ]
     },
     "execution_count": 53,
     "metadata": {},
     "output_type": "execute_result"
    }
   ],
   "source": [
    "# Jumlah missing value di setiap kolom\n",
    "(df.isna().sum()/df.shape[0])*100"
   ]
  },
  {
   "cell_type": "markdown",
   "metadata": {
    "id": "54y2-EPtQW5l"
   },
   "source": [
    "Dari hasil pengecekan *missing value* di atas, dapat dilihat bahwa data yang tersedia tidak memiliki data kosong atau data hilang."
   ]
  },
  {
   "cell_type": "markdown",
   "metadata": {},
   "source": [
    "Kolom balance, pdays, dan poutcome dihapus karena data pada kedua kolom ini tidak akan digunakan untuk analisa yang akan dilakukan dan juga tidak memiliki manfaat dalam pembuatan model machine learning."
   ]
  },
  {
   "cell_type": "code",
   "execution_count": 54,
   "metadata": {},
   "outputs": [],
   "source": [
    "df.drop(['balance', 'pdays', 'poutcome'],axis=1, inplace=True)"
   ]
  },
  {
   "cell_type": "markdown",
   "metadata": {},
   "source": [
    "Di bawah ini adalah pengecekan ulang dataframe di mana kolom balance, pdays, dan poutcome telah dihapus."
   ]
  },
  {
   "cell_type": "code",
   "execution_count": 55,
   "metadata": {},
   "outputs": [
    {
     "data": {
      "text/html": [
       "<div>\n",
       "<style scoped>\n",
       "    .dataframe tbody tr th:only-of-type {\n",
       "        vertical-align: middle;\n",
       "    }\n",
       "\n",
       "    .dataframe tbody tr th {\n",
       "        vertical-align: top;\n",
       "    }\n",
       "\n",
       "    .dataframe thead th {\n",
       "        text-align: right;\n",
       "    }\n",
       "</style>\n",
       "<table border=\"1\" class=\"dataframe\">\n",
       "  <thead>\n",
       "    <tr style=\"text-align: right;\">\n",
       "      <th></th>\n",
       "      <th>dataFeatures</th>\n",
       "      <th>dataType</th>\n",
       "      <th>null</th>\n",
       "      <th>nullPct</th>\n",
       "      <th>unique</th>\n",
       "      <th>uniqueSample</th>\n",
       "    </tr>\n",
       "  </thead>\n",
       "  <tbody>\n",
       "    <tr>\n",
       "      <th>0</th>\n",
       "      <td>age</td>\n",
       "      <td>int64</td>\n",
       "      <td>0</td>\n",
       "      <td>0.0</td>\n",
       "      <td>75</td>\n",
       "      <td>[85, 50]</td>\n",
       "    </tr>\n",
       "    <tr>\n",
       "      <th>1</th>\n",
       "      <td>job</td>\n",
       "      <td>object</td>\n",
       "      <td>0</td>\n",
       "      <td>0.0</td>\n",
       "      <td>12</td>\n",
       "      <td>[self-employed, student]</td>\n",
       "    </tr>\n",
       "    <tr>\n",
       "      <th>2</th>\n",
       "      <td>housing</td>\n",
       "      <td>object</td>\n",
       "      <td>0</td>\n",
       "      <td>0.0</td>\n",
       "      <td>2</td>\n",
       "      <td>[no, yes]</td>\n",
       "    </tr>\n",
       "    <tr>\n",
       "      <th>3</th>\n",
       "      <td>loan</td>\n",
       "      <td>object</td>\n",
       "      <td>0</td>\n",
       "      <td>0.0</td>\n",
       "      <td>2</td>\n",
       "      <td>[yes, no]</td>\n",
       "    </tr>\n",
       "    <tr>\n",
       "      <th>4</th>\n",
       "      <td>contact</td>\n",
       "      <td>object</td>\n",
       "      <td>0</td>\n",
       "      <td>0.0</td>\n",
       "      <td>3</td>\n",
       "      <td>[cellular, telephone]</td>\n",
       "    </tr>\n",
       "    <tr>\n",
       "      <th>5</th>\n",
       "      <td>month</td>\n",
       "      <td>object</td>\n",
       "      <td>0</td>\n",
       "      <td>0.0</td>\n",
       "      <td>12</td>\n",
       "      <td>[mar, may]</td>\n",
       "    </tr>\n",
       "    <tr>\n",
       "      <th>6</th>\n",
       "      <td>campaign</td>\n",
       "      <td>int64</td>\n",
       "      <td>0</td>\n",
       "      <td>0.0</td>\n",
       "      <td>32</td>\n",
       "      <td>[21, 43]</td>\n",
       "    </tr>\n",
       "    <tr>\n",
       "      <th>7</th>\n",
       "      <td>deposit</td>\n",
       "      <td>object</td>\n",
       "      <td>0</td>\n",
       "      <td>0.0</td>\n",
       "      <td>2</td>\n",
       "      <td>[yes, no]</td>\n",
       "    </tr>\n",
       "  </tbody>\n",
       "</table>\n",
       "</div>"
      ],
      "text/plain": [
       "  dataFeatures dataType  null  nullPct  unique              uniqueSample\n",
       "0          age    int64     0      0.0      75                  [85, 50]\n",
       "1          job   object     0      0.0      12  [self-employed, student]\n",
       "2      housing   object     0      0.0       2                 [no, yes]\n",
       "3         loan   object     0      0.0       2                 [yes, no]\n",
       "4      contact   object     0      0.0       3     [cellular, telephone]\n",
       "5        month   object     0      0.0      12                [mar, may]\n",
       "6     campaign    int64     0      0.0      32                  [21, 43]\n",
       "7      deposit   object     0      0.0       2                 [yes, no]"
      ]
     },
     "execution_count": 55,
     "metadata": {},
     "output_type": "execute_result"
    }
   ],
   "source": [
    "ListItem = []\n",
    "for col in df.columns:\n",
    "    ListItem.append([col, df[col].dtype, df[col].isna().sum(), round((df[col].isna().sum()/len(df[col]))*100,2),\n",
    "                    df[col].nunique(), list(df[col].drop_duplicates().sample(2).values)]);\n",
    "\n",
    "dfDesc = pd.DataFrame(columns = ['dataFeatures', 'dataType', 'null', 'nullPct', 'unique', 'uniqueSample'],\n",
    "                     data = ListItem)\n",
    "dfDesc"
   ]
  },
  {
   "cell_type": "markdown",
   "metadata": {},
   "source": [
    "Terlihat dari tabel dataframe di atas, dataset sudah bersih dan siap untuk digunakan ke tahapan analisis."
   ]
  },
  {
   "cell_type": "markdown",
   "metadata": {
    "id": "r0D0fuaLQW53"
   },
   "source": [
    "## Analisis Data (Data Analysis)"
   ]
  },
  {
   "cell_type": "code",
   "execution_count": 56,
   "metadata": {
    "id": "fXnVmyw9QW53",
    "outputId": "da79a5cc-1975-48ae-860c-da5fc2c44c57"
   },
   "outputs": [
    {
     "data": {
      "text/plain": [
       "Text(0.5, 1.0, 'Housing Histogram')"
      ]
     },
     "execution_count": 56,
     "metadata": {},
     "output_type": "execute_result"
    },
    {
     "data": {
      "image/png": "[encoded data removed]",
      "text/plain": [
       "<Figure size 1700x1200 with 2 Axes>"
      ]
     },
     "metadata": {},
     "output_type": "display_data"
    }
   ],
   "source": [
    "plt.figure(figsize=(17,12))\n",
    "\n",
    "plt.subplot(221)\n",
    "sns.histplot(data=df, x='age', hue='deposit', kde=True)\n",
    "plt.xticks(rotation=90)\n",
    "plt.title('Age Histogram', fontsize=20)\n",
    "\n",
    "plt.subplot(222)\n",
    "sns.histplot(data=df, x='housing', hue='deposit', kde=True)\n",
    "plt.title('Housing Histogram', fontsize=20)"
   ]
  },
  {
   "cell_type": "markdown",
   "metadata": {
    "id": "wxtN2DbdQW54"
   },
   "source": [
    "Berdasarkan histogram diatas, dapat disimpulkan bahwa terlihat perbedaan distribusi usia (`age`) dari nasabah yang tidak tertarik dengan deposito berjangka (`no`) dan nasabah yang tertarik dengan deposito berjangka (`yes`), di mana nasabah yang tidak tertarik dengan deposit berjangka kebanyakan berada pada usia 30-60 tahun.\n",
    "\n",
    "Visualisasi distribusi `housing` memperlihatkan adanya sedikit perbedaan antara yang tidak tertarik dengan deposito berjangka dan yang tertarik dengan deposito berjangka, di mana nasabah dengan kepemilikan `housing` = no atau tidak memiliki rumah cenderung tertarik dengan deposit berjangka."
   ]
  },
  {
   "cell_type": "code",
   "execution_count": 57,
   "metadata": {
    "id": "vvX9PnBcQW54",
    "outputId": "bf370475-f6a6-4460-8d40-8a71f5987609"
   },
   "outputs": [
    {
     "data": {
      "image/png": "[encoded data removed]",
      "text/plain": [
       "<Figure size 2000x2000 with 4 Axes>"
      ]
     },
     "metadata": {},
     "output_type": "display_data"
    }
   ],
   "source": [
    "count = 0\n",
    "fig = plt.figure(figsize=(20,20))\n",
    "\n",
    "for i in df.drop(columns=['deposit', 'age', 'housing', 'job']).columns:\n",
    "    count += 1\n",
    "    ax = plt.subplot(4,2,count)\n",
    "    pd.crosstab(df[i], df['deposit'], normalize=0).plot(kind='bar', stacked=True, ax=ax)\n",
    "    fig.tight_layout()\n",
    "\n",
    "plt.show()"
   ]
  },
  {
   "cell_type": "markdown",
   "metadata": {
    "id": "2vz_IZSVQW54"
   },
   "source": [
    "Berdasarkan barplot diatas, ada beberapa hal yang dapat disimpulkan:\n",
    "1. Nasabah yang tidak sedang memiliki pinjaman di bank (`loan` = `no`) cenderung tertarik dengan deposito berjangka dibandingkan dengan nasabah yang memilki pinjaman di bank (`loan` = `yes`).\n",
    "2. Tidak ada perbedaan jauh antara nasabah yang dikontak melalui handphone (`cellular`) dengan nasabah yang dikontak melalui telepon rumah (`telephone`) perihal ketertarikan mereka dengan deposito berjangka, sedangkan nasabah yang dikontak dengan cara lain (`unknown`) cenderung tidak tertarik dengan deposito berjangka.\n",
    "3. Nasabah yang dikontak pada bulan Maret (`mar`), September (`sep`), Oktober(`oct`), dan Desember (`dec`) memiliki ketertarikan yang lebih tinggi untuk membuka deposito berjangka daripada kandidat yang dikontak pada bulan lainnya.\n",
    "4. Nasabah yang dikontak sebanyak 1 kali (jumlah `campaign` = 1) selama masa *marketing campaign* sebelumnya cenderung tertarik dengan deposito berjangka dan ketertarikan ini cenderung menurun seiring dengan semakin seringnya seorang nasabah dikontak selama masa *marketing campaign* berlangsung."
   ]
  },
  {
   "cell_type": "code",
   "execution_count": 58,
   "metadata": {
    "id": "HVQNsHaKQW54",
    "outputId": "3b98060c-c262-4bcb-c565-111eee4dcc35"
   },
   "outputs": [
    {
     "data": {
      "text/html": [
       "<div>\n",
       "<style scoped>\n",
       "    .dataframe tbody tr th:only-of-type {\n",
       "        vertical-align: middle;\n",
       "    }\n",
       "\n",
       "    .dataframe tbody tr th {\n",
       "        vertical-align: top;\n",
       "    }\n",
       "\n",
       "    .dataframe thead th {\n",
       "        text-align: right;\n",
       "    }\n",
       "</style>\n",
       "<table border=\"1\" class=\"dataframe\">\n",
       "  <thead>\n",
       "    <tr style=\"text-align: right;\">\n",
       "      <th>deposit</th>\n",
       "      <th>no</th>\n",
       "      <th>yes</th>\n",
       "    </tr>\n",
       "    <tr>\n",
       "      <th>job</th>\n",
       "      <th></th>\n",
       "      <th></th>\n",
       "    </tr>\n",
       "  </thead>\n",
       "  <tbody>\n",
       "    <tr>\n",
       "      <th>admin.</th>\n",
       "      <td>0.525641</td>\n",
       "      <td>0.474359</td>\n",
       "    </tr>\n",
       "    <tr>\n",
       "      <th>blue-collar</th>\n",
       "      <td>0.625557</td>\n",
       "      <td>0.374443</td>\n",
       "    </tr>\n",
       "    <tr>\n",
       "      <th>entrepreneur</th>\n",
       "      <td>0.601695</td>\n",
       "      <td>0.398305</td>\n",
       "    </tr>\n",
       "    <tr>\n",
       "      <th>housemaid</th>\n",
       "      <td>0.608696</td>\n",
       "      <td>0.391304</td>\n",
       "    </tr>\n",
       "    <tr>\n",
       "      <th>management</th>\n",
       "      <td>0.489955</td>\n",
       "      <td>0.510045</td>\n",
       "    </tr>\n",
       "    <tr>\n",
       "      <th>retired</th>\n",
       "      <td>0.324074</td>\n",
       "      <td>0.675926</td>\n",
       "    </tr>\n",
       "    <tr>\n",
       "      <th>self-employed</th>\n",
       "      <td>0.546429</td>\n",
       "      <td>0.453571</td>\n",
       "    </tr>\n",
       "    <tr>\n",
       "      <th>services</th>\n",
       "      <td>0.604863</td>\n",
       "      <td>0.395137</td>\n",
       "    </tr>\n",
       "    <tr>\n",
       "      <th>student</th>\n",
       "      <td>0.255061</td>\n",
       "      <td>0.744939</td>\n",
       "    </tr>\n",
       "    <tr>\n",
       "      <th>technician</th>\n",
       "      <td>0.539117</td>\n",
       "      <td>0.460883</td>\n",
       "    </tr>\n",
       "    <tr>\n",
       "      <th>unemployed</th>\n",
       "      <td>0.409639</td>\n",
       "      <td>0.590361</td>\n",
       "    </tr>\n",
       "    <tr>\n",
       "      <th>unknown</th>\n",
       "      <td>0.518519</td>\n",
       "      <td>0.481481</td>\n",
       "    </tr>\n",
       "  </tbody>\n",
       "</table>\n",
       "</div>"
      ],
      "text/plain": [
       "deposit              no       yes\n",
       "job                              \n",
       "admin.         0.525641  0.474359\n",
       "blue-collar    0.625557  0.374443\n",
       "entrepreneur   0.601695  0.398305\n",
       "housemaid      0.608696  0.391304\n",
       "management     0.489955  0.510045\n",
       "retired        0.324074  0.675926\n",
       "self-employed  0.546429  0.453571\n",
       "services       0.604863  0.395137\n",
       "student        0.255061  0.744939\n",
       "technician     0.539117  0.460883\n",
       "unemployed     0.409639  0.590361\n",
       "unknown        0.518519  0.481481"
      ]
     },
     "execution_count": 58,
     "metadata": {},
     "output_type": "execute_result"
    }
   ],
   "source": [
    "job_df = df.groupby('job')['deposit'].value_counts(normalize=True).unstack()\n",
    "job_df"
   ]
  },
  {
   "cell_type": "markdown",
   "metadata": {
    "id": "8aSrQOKCQW54"
   },
   "source": [
    "Dari tabel di atas, terlihat bahwa ada perbedaan kecenderungan minat nasabah berdasarkan jenis pekerjaan yang mereka miliki.\n",
    "\n",
    "Di bawah ini, kita coba melihat 4 jenis pekerjaan dengan jumlah nasabah terbanyak dan bagaimana kecenderungannya terhadap produk deposito berjangka."
   ]
  },
  {
   "cell_type": "code",
   "execution_count": 59,
   "metadata": {
    "id": "-m03GXPoQW55",
    "outputId": "e08fcb17-14ca-462c-e7fc-9d9b98f58e38"
   },
   "outputs": [
    {
     "data": {
      "text/plain": [
       "job\n",
       "management       1792\n",
       "blue-collar      1346\n",
       "technician       1291\n",
       "admin.            936\n",
       "services          658\n",
       "retired           540\n",
       "self-employed     280\n",
       "unemployed        249\n",
       "student           247\n",
       "entrepreneur      236\n",
       "housemaid         184\n",
       "unknown            54\n",
       "Name: count, dtype: int64"
      ]
     },
     "execution_count": 59,
     "metadata": {},
     "output_type": "execute_result"
    }
   ],
   "source": [
    "df['job'].value_counts()"
   ]
  },
  {
   "cell_type": "code",
   "execution_count": 60,
   "metadata": {
    "id": "7hPvU5HQQW55",
    "outputId": "e3d59345-a4b1-4ca4-ce72-c9d68ee115f7"
   },
   "outputs": [
    {
     "data": {
      "text/plain": [
       "deposit\n",
       "no     0.489955\n",
       "yes    0.510045\n",
       "Name: management, dtype: float64"
      ]
     },
     "execution_count": 60,
     "metadata": {},
     "output_type": "execute_result"
    }
   ],
   "source": [
    "job_df.sort_values(by='yes', ascending=False).loc['management']"
   ]
  },
  {
   "cell_type": "code",
   "execution_count": 61,
   "metadata": {
    "id": "IOM7TD0HQW55",
    "outputId": "f80c7621-499a-4e6b-9e63-eeb2a7614ade"
   },
   "outputs": [
    {
     "data": {
      "text/plain": [
       "deposit\n",
       "no     0.625557\n",
       "yes    0.374443\n",
       "Name: blue-collar, dtype: float64"
      ]
     },
     "execution_count": 61,
     "metadata": {},
     "output_type": "execute_result"
    }
   ],
   "source": [
    "job_df.sort_values(by='yes', ascending=False).loc['blue-collar']"
   ]
  },
  {
   "cell_type": "code",
   "execution_count": 62,
   "metadata": {
    "id": "ZbYy9PTCQW55",
    "outputId": "3d86013d-3207-4403-ec8b-5c0c2eb990ca"
   },
   "outputs": [
    {
     "data": {
      "text/plain": [
       "deposit\n",
       "no     0.539117\n",
       "yes    0.460883\n",
       "Name: technician, dtype: float64"
      ]
     },
     "execution_count": 62,
     "metadata": {},
     "output_type": "execute_result"
    }
   ],
   "source": [
    "job_df.sort_values(by='yes', ascending=False).loc['technician']"
   ]
  },
  {
   "cell_type": "code",
   "execution_count": 63,
   "metadata": {
    "id": "OoZkidNGQW55",
    "outputId": "5a4e979a-12b6-46d6-db2d-01904b4c2a3c"
   },
   "outputs": [
    {
     "data": {
      "text/plain": [
       "deposit\n",
       "no     0.525641\n",
       "yes    0.474359\n",
       "Name: admin., dtype: float64"
      ]
     },
     "execution_count": 63,
     "metadata": {},
     "output_type": "execute_result"
    }
   ],
   "source": [
    "job_df.sort_values(by='yes', ascending=False).loc['admin.']"
   ]
  },
  {
   "cell_type": "markdown",
   "metadata": {
    "id": "ACjMPBHiQW55"
   },
   "source": [
    "Nasabah dengan jenis pekerjaan `blue-collar`,`technician`, dan `admin` memiliki kecenderungan lebih banyak yang tidak tertarik dengan deposito berjangka dibandingkan dengan yang tertarik, sedangkan untuk nasabah dengan jenis pekerjaan `management` lebih banyak yang tertarik dengan deposito berjangka dibandingkan dengan yang tidak tertarik.\n",
    "\n",
    "Setelah melakukan visualisasi dan analisis, dataset dipersiakan untuk pembuatan model machine learning. "
   ]
  },
  {
   "cell_type": "markdown",
   "metadata": {
    "id": "tc-CleaqQW56"
   },
   "source": [
    "## Data Preparation"
   ]
  },
  {
   "cell_type": "code",
   "execution_count": 64,
   "metadata": {
    "id": "QC_Z_Y_UQW56",
    "outputId": "cdb27366-53ec-4342-e4ec-bce6343d9a9b"
   },
   "outputs": [
    {
     "data": {
      "text/html": [
       "<div>\n",
       "<style scoped>\n",
       "    .dataframe tbody tr th:only-of-type {\n",
       "        vertical-align: middle;\n",
       "    }\n",
       "\n",
       "    .dataframe tbody tr th {\n",
       "        vertical-align: top;\n",
       "    }\n",
       "\n",
       "    .dataframe thead th {\n",
       "        text-align: right;\n",
       "    }\n",
       "</style>\n",
       "<table border=\"1\" class=\"dataframe\">\n",
       "  <thead>\n",
       "    <tr style=\"text-align: right;\">\n",
       "      <th></th>\n",
       "      <th>age</th>\n",
       "      <th>job</th>\n",
       "      <th>housing</th>\n",
       "      <th>loan</th>\n",
       "      <th>contact</th>\n",
       "      <th>month</th>\n",
       "      <th>campaign</th>\n",
       "      <th>deposit</th>\n",
       "    </tr>\n",
       "  </thead>\n",
       "  <tbody>\n",
       "    <tr>\n",
       "      <th>0</th>\n",
       "      <td>55</td>\n",
       "      <td>admin.</td>\n",
       "      <td>no</td>\n",
       "      <td>no</td>\n",
       "      <td>cellular</td>\n",
       "      <td>jun</td>\n",
       "      <td>2</td>\n",
       "      <td>yes</td>\n",
       "    </tr>\n",
       "    <tr>\n",
       "      <th>1</th>\n",
       "      <td>39</td>\n",
       "      <td>self-employed</td>\n",
       "      <td>yes</td>\n",
       "      <td>yes</td>\n",
       "      <td>cellular</td>\n",
       "      <td>apr</td>\n",
       "      <td>3</td>\n",
       "      <td>yes</td>\n",
       "    </tr>\n",
       "    <tr>\n",
       "      <th>2</th>\n",
       "      <td>51</td>\n",
       "      <td>admin.</td>\n",
       "      <td>no</td>\n",
       "      <td>no</td>\n",
       "      <td>cellular</td>\n",
       "      <td>may</td>\n",
       "      <td>1</td>\n",
       "      <td>yes</td>\n",
       "    </tr>\n",
       "    <tr>\n",
       "      <th>3</th>\n",
       "      <td>38</td>\n",
       "      <td>services</td>\n",
       "      <td>yes</td>\n",
       "      <td>no</td>\n",
       "      <td>cellular</td>\n",
       "      <td>may</td>\n",
       "      <td>1</td>\n",
       "      <td>no</td>\n",
       "    </tr>\n",
       "    <tr>\n",
       "      <th>4</th>\n",
       "      <td>36</td>\n",
       "      <td>housemaid</td>\n",
       "      <td>yes</td>\n",
       "      <td>no</td>\n",
       "      <td>telephone</td>\n",
       "      <td>nov</td>\n",
       "      <td>4</td>\n",
       "      <td>no</td>\n",
       "    </tr>\n",
       "  </tbody>\n",
       "</table>\n",
       "</div>"
      ],
      "text/plain": [
       "   age            job housing loan    contact month  campaign deposit\n",
       "0   55         admin.      no   no   cellular   jun         2     yes\n",
       "1   39  self-employed     yes  yes   cellular   apr         3     yes\n",
       "2   51         admin.      no   no   cellular   may         1     yes\n",
       "3   38       services     yes   no   cellular   may         1      no\n",
       "4   36      housemaid     yes   no  telephone   nov         4      no"
      ]
     },
     "execution_count": 64,
     "metadata": {},
     "output_type": "execute_result"
    }
   ],
   "source": [
    "df.head()"
   ]
  },
  {
   "cell_type": "markdown",
   "metadata": {
    "id": "Jwv2tb8IQW56"
   },
   "source": [
    "Tahapan awal dalam *data preparation* adalah dengan melakukan encoding terhadap fitur-fitur *categorical* dan *numerical* yang dimiliki oleh dataset agar bisa dibaca dan dimengerti oleh model machine learning.\n",
    "Berikut ini adalah jenis-jenis encoding yang akan dilakukan terhadap masing-masing fitur:\n",
    "\n",
    "1. Mengubah fitur/kolom `age` dan `month` menggunakan Binary Encoding karena kedua fitur ini memiliki *unique data* yang cukup banyak sehingga bila One Hot Encoding digunakan akan terlalu banyak fitur baru yg terbuat. Selain itu, fitur `age` memiliki lompatan jarak antar *value* yang besarnya tidak sama.\n",
    "2. Mengubah fitur/kolom `job` menggunakan Binary Encoding karena fitur ini memiliki *unique data* yang banyak dan tidak memiliki urutan atau tidak ordinal. Bila kita menggunakan One Hot Encoding akan terlalu banyak fitur baru yang dibuat dan kalau kita menggunakan Ordinal/Label Encoding, hasilnya akan kurang sesuai atau kurang baik.\n",
    "3. Mengubah fitur/kolom `housing`, `loan`, dan `contact` menggunakan One Hot Encoding karena fitur ini tidak memiliki urutan atau tidak ordinal dan juga jumlah data uniknya hanya sedikit.\n",
    "4. Mengubah fitur/kolom `campaign` menggunakan Ordinal Encoding karena fitur ini memiliki urutan atau ordinal dengan lompatan *value* antar `campaign` yang hampir semuanya sama dan juga memiliki jumlah unique data yang tidak terlalu banyak.\n",
    "5. Mengubah fitur/kolom `deposit` menjadi Integer agar dapat dipakai dalam permodelan machine learning."
   ]
  },
  {
   "cell_type": "code",
   "execution_count": 65,
   "metadata": {},
   "outputs": [
    {
     "data": {
      "text/plain": [
       "0       1\n",
       "1       1\n",
       "2       1\n",
       "3       0\n",
       "4       0\n",
       "       ..\n",
       "7808    1\n",
       "7809    1\n",
       "7810    0\n",
       "7811    0\n",
       "7812    1\n",
       "Name: deposit, Length: 7813, dtype: int32"
      ]
     },
     "execution_count": 65,
     "metadata": {},
     "output_type": "execute_result"
    }
   ],
   "source": [
    "df['deposit'] = df['deposit'].replace({'no': 0, 'yes': 1}).astype(int)\n",
    "df['deposit']"
   ]
  },
  {
   "cell_type": "code",
   "execution_count": 66,
   "metadata": {
    "id": "YDXpzKGIQW56"
   },
   "outputs": [],
   "source": [
    "ordinal_mapping = [\n",
    "    {'col':'campaign',\n",
    "    'mapping':{\n",
    "        '1'      :    0,\n",
    "        '2'       :    1,\n",
    "        '3'       :    2,\n",
    "        '4'       :    3,\n",
    "        '5'       :    4,\n",
    "        '6'       :    5,\n",
    "        '7'       :    6,\n",
    "        '8'       :    7,\n",
    "        '9'       :    8,\n",
    "        '10'      :    9,\n",
    "        '11'      :    10,\n",
    "        '12'      :    11,\n",
    "        '13'      :    12,\n",
    "        '14'      :    13,\n",
    "        '15'      :    14,\n",
    "        '16'      :    15,\n",
    "        '17'      :    16,\n",
    "        '18'      :    17,\n",
    "        '19'      :    18,\n",
    "        '20'      :    19,\n",
    "        '21'      :    20,\n",
    "        '22'      :    21,\n",
    "        '23'      :    22,\n",
    "        '24'      :    23,\n",
    "        '25'      :    24,\n",
    "        '26'      :    25,\n",
    "        '28'      :    26,\n",
    "        '29'      :    27,\n",
    "        '30'      :    28,\n",
    "        '33'      :    29,\n",
    "        '43'      :    30,\n",
    "        '63'      :    31\n",
    "    }}\n",
    "    ]"
   ]
  },
  {
   "cell_type": "code",
   "execution_count": 67,
   "metadata": {
    "id": "A8nWQk2AQW56"
   },
   "outputs": [],
   "source": [
    "transformer = ColumnTransformer([\n",
    "    ('onehot', OneHotEncoder(drop = 'first'), ['housing', 'loan', 'contact']),\n",
    "    ('ordinal', ce.OrdinalEncoder(mapping = ordinal_mapping), ['campaign']),\n",
    "     ('binary', ce.BinaryEncoder(), ['age', 'job', 'month'])\n",
    "    ], remainder = 'passthrough')"
   ]
  },
  {
   "cell_type": "code",
   "execution_count": 68,
   "metadata": {
    "id": "CjRfLDnKQW56"
   },
   "outputs": [],
   "source": [
    "x = df.drop(columns = ['deposit'])\n",
    "y = df['deposit']"
   ]
  },
  {
   "cell_type": "code",
   "execution_count": 69,
   "metadata": {
    "id": "Q4OtiglrQW56"
   },
   "outputs": [],
   "source": [
    "x_train, x_test, y_train, y_test = train_test_split(\n",
    "                                x, \n",
    "                                y, \n",
    "                                stratify = y, \n",
    "                                test_size = 0.2,\n",
    "                                random_state = 2021)"
   ]
  },
  {
   "cell_type": "code",
   "execution_count": 70,
   "metadata": {
    "id": "PbrK5ITPQW56",
    "outputId": "14d3de0e-9571-43fa-aca9-38321ea038bf"
   },
   "outputs": [
    {
     "name": "stdout",
     "output_type": "stream",
     "text": [
      "Warning: No categorical columns found. Calling 'transform' will only return input data.\n"
     ]
    },
    {
     "data": {
      "text/html": [
       "<div>\n",
       "<style scoped>\n",
       "    .dataframe tbody tr th:only-of-type {\n",
       "        vertical-align: middle;\n",
       "    }\n",
       "\n",
       "    .dataframe tbody tr th {\n",
       "        vertical-align: top;\n",
       "    }\n",
       "\n",
       "    .dataframe thead th {\n",
       "        text-align: right;\n",
       "    }\n",
       "</style>\n",
       "<table border=\"1\" class=\"dataframe\">\n",
       "  <thead>\n",
       "    <tr style=\"text-align: right;\">\n",
       "      <th></th>\n",
       "      <th>onehot__housing_yes</th>\n",
       "      <th>onehot__loan_yes</th>\n",
       "      <th>onehot__contact_telephone</th>\n",
       "      <th>onehot__contact_unknown</th>\n",
       "      <th>ordinal__campaign</th>\n",
       "      <th>binary__age</th>\n",
       "      <th>binary__job_0</th>\n",
       "      <th>binary__job_1</th>\n",
       "      <th>binary__job_2</th>\n",
       "      <th>binary__job_3</th>\n",
       "      <th>binary__month_0</th>\n",
       "      <th>binary__month_1</th>\n",
       "      <th>binary__month_2</th>\n",
       "      <th>binary__month_3</th>\n",
       "    </tr>\n",
       "  </thead>\n",
       "  <tbody>\n",
       "    <tr>\n",
       "      <th>0</th>\n",
       "      <td>1.0</td>\n",
       "      <td>0.0</td>\n",
       "      <td>0.0</td>\n",
       "      <td>1.0</td>\n",
       "      <td>5.0</td>\n",
       "      <td>41.0</td>\n",
       "      <td>0.0</td>\n",
       "      <td>0.0</td>\n",
       "      <td>0.0</td>\n",
       "      <td>1.0</td>\n",
       "      <td>0.0</td>\n",
       "      <td>0.0</td>\n",
       "      <td>0.0</td>\n",
       "      <td>1.0</td>\n",
       "    </tr>\n",
       "    <tr>\n",
       "      <th>1</th>\n",
       "      <td>1.0</td>\n",
       "      <td>0.0</td>\n",
       "      <td>0.0</td>\n",
       "      <td>0.0</td>\n",
       "      <td>5.0</td>\n",
       "      <td>36.0</td>\n",
       "      <td>0.0</td>\n",
       "      <td>0.0</td>\n",
       "      <td>1.0</td>\n",
       "      <td>0.0</td>\n",
       "      <td>0.0</td>\n",
       "      <td>0.0</td>\n",
       "      <td>0.0</td>\n",
       "      <td>1.0</td>\n",
       "    </tr>\n",
       "    <tr>\n",
       "      <th>2</th>\n",
       "      <td>1.0</td>\n",
       "      <td>0.0</td>\n",
       "      <td>0.0</td>\n",
       "      <td>0.0</td>\n",
       "      <td>3.0</td>\n",
       "      <td>38.0</td>\n",
       "      <td>0.0</td>\n",
       "      <td>0.0</td>\n",
       "      <td>1.0</td>\n",
       "      <td>1.0</td>\n",
       "      <td>0.0</td>\n",
       "      <td>0.0</td>\n",
       "      <td>0.0</td>\n",
       "      <td>1.0</td>\n",
       "    </tr>\n",
       "    <tr>\n",
       "      <th>3</th>\n",
       "      <td>0.0</td>\n",
       "      <td>0.0</td>\n",
       "      <td>0.0</td>\n",
       "      <td>0.0</td>\n",
       "      <td>3.0</td>\n",
       "      <td>32.0</td>\n",
       "      <td>0.0</td>\n",
       "      <td>0.0</td>\n",
       "      <td>1.0</td>\n",
       "      <td>1.0</td>\n",
       "      <td>0.0</td>\n",
       "      <td>0.0</td>\n",
       "      <td>1.0</td>\n",
       "      <td>0.0</td>\n",
       "    </tr>\n",
       "    <tr>\n",
       "      <th>4</th>\n",
       "      <td>1.0</td>\n",
       "      <td>1.0</td>\n",
       "      <td>0.0</td>\n",
       "      <td>0.0</td>\n",
       "      <td>4.0</td>\n",
       "      <td>25.0</td>\n",
       "      <td>0.0</td>\n",
       "      <td>0.0</td>\n",
       "      <td>1.0</td>\n",
       "      <td>1.0</td>\n",
       "      <td>0.0</td>\n",
       "      <td>0.0</td>\n",
       "      <td>0.0</td>\n",
       "      <td>1.0</td>\n",
       "    </tr>\n",
       "  </tbody>\n",
       "</table>\n",
       "</div>"
      ],
      "text/plain": [
       "   onehot__housing_yes  onehot__loan_yes  onehot__contact_telephone  \\\n",
       "0                  1.0               0.0                        0.0   \n",
       "1                  1.0               0.0                        0.0   \n",
       "2                  1.0               0.0                        0.0   \n",
       "3                  0.0               0.0                        0.0   \n",
       "4                  1.0               1.0                        0.0   \n",
       "\n",
       "   onehot__contact_unknown  ordinal__campaign  binary__age  binary__job_0  \\\n",
       "0                      1.0                5.0         41.0            0.0   \n",
       "1                      0.0                5.0         36.0            0.0   \n",
       "2                      0.0                3.0         38.0            0.0   \n",
       "3                      0.0                3.0         32.0            0.0   \n",
       "4                      0.0                4.0         25.0            0.0   \n",
       "\n",
       "   binary__job_1  binary__job_2  binary__job_3  binary__month_0  \\\n",
       "0            0.0            0.0            1.0              0.0   \n",
       "1            0.0            1.0            0.0              0.0   \n",
       "2            0.0            1.0            1.0              0.0   \n",
       "3            0.0            1.0            1.0              0.0   \n",
       "4            0.0            1.0            1.0              0.0   \n",
       "\n",
       "   binary__month_1  binary__month_2  binary__month_3  \n",
       "0              0.0              0.0              1.0  \n",
       "1              0.0              0.0              1.0  \n",
       "2              0.0              0.0              1.0  \n",
       "3              0.0              1.0              0.0  \n",
       "4              0.0              0.0              1.0  "
      ]
     },
     "execution_count": 70,
     "metadata": {},
     "output_type": "execute_result"
    }
   ],
   "source": [
    "testing = pd.DataFrame(transformer.fit_transform(x_train), columns = transformer.get_feature_names_out())\n",
    "testing.head()"
   ]
  },
  {
   "cell_type": "markdown",
   "metadata": {
    "id": "0HDcdWh5QW57"
   },
   "source": [
    "## Modeling and Evaluation"
   ]
  },
  {
   "cell_type": "markdown",
   "metadata": {},
   "source": [
    "Karena modeling yang akan dibuat adalah modeling classification, maka kita panggil 6 jenis function classitication modeling dan disimpan ke dalam variabel untuk mempermudah pembuatan syntax machine learning. "
   ]
  },
  {
   "cell_type": "code",
   "execution_count": 71,
   "metadata": {
    "id": "EaHZE1mRQW57"
   },
   "outputs": [],
   "source": [
    "logreg = LogisticRegression()\n",
    "knn = KNeighborsClassifier()\n",
    "dt = DecisionTreeClassifier()\n",
    "rf = RandomForestClassifier()\n",
    "xgb = XGBClassifier()\n",
    "lgbm = lgb.LGBMClassifier()"
   ]
  },
  {
   "cell_type": "markdown",
   "metadata": {
    "id": "dhIQQntFQW57"
   },
   "source": [
    "### Model Benchmarking: K-Fold (Data Train)"
   ]
  },
  {
   "cell_type": "markdown",
   "metadata": {},
   "source": [
    "Di sini kita aplikasikan *cross validation* K-Fold pada data train untuk mencari classification method dengan nilai skor ROC AUC yang paling mendekati 1. Model dengan skor ROC AUC mendekati 1 artinya model tersebut paling cocok digunakan."
   ]
  },
  {
   "cell_type": "code",
   "execution_count": 72,
   "metadata": {
    "id": "uj14LZLWQW57",
    "outputId": "328a8cca-663c-4e63-cf2a-2e700770bcce"
   },
   "outputs": [
    {
     "name": "stdout",
     "output_type": "stream",
     "text": [
      "Warning: No categorical columns found. Calling 'transform' will only return input data.\n",
      "Warning: No categorical columns found. Calling 'transform' will only return input data.\n",
      "Warning: No categorical columns found. Calling 'transform' will only return input data.\n",
      "Warning: No categorical columns found. Calling 'transform' will only return input data.\n",
      "Warning: No categorical columns found. Calling 'transform' will only return input data.\n",
      "Warning: No categorical columns found. Calling 'transform' will only return input data.\n",
      "Warning: No categorical columns found. Calling 'transform' will only return input data.\n",
      "Warning: No categorical columns found. Calling 'transform' will only return input data.\n",
      "Warning: No categorical columns found. Calling 'transform' will only return input data.\n",
      "Warning: No categorical columns found. Calling 'transform' will only return input data.\n",
      "Warning: No categorical columns found. Calling 'transform' will only return input data.\n",
      "Warning: No categorical columns found. Calling 'transform' will only return input data.\n",
      "Warning: No categorical columns found. Calling 'transform' will only return input data.\n",
      "Warning: No categorical columns found. Calling 'transform' will only return input data.\n",
      "Warning: No categorical columns found. Calling 'transform' will only return input data.\n",
      "Warning: No categorical columns found. Calling 'transform' will only return input data.\n",
      "Warning: No categorical columns found. Calling 'transform' will only return input data.\n",
      "Warning: No categorical columns found. Calling 'transform' will only return input data.\n",
      "Warning: No categorical columns found. Calling 'transform' will only return input data.\n",
      "Warning: No categorical columns found. Calling 'transform' will only return input data.\n",
      "Warning: No categorical columns found. Calling 'transform' will only return input data.\n",
      "Warning: No categorical columns found. Calling 'transform' will only return input data.\n",
      "Warning: No categorical columns found. Calling 'transform' will only return input data.\n",
      "Warning: No categorical columns found. Calling 'transform' will only return input data.\n",
      "Warning: No categorical columns found. Calling 'transform' will only return input data.\n",
      "Warning: No categorical columns found. Calling 'transform' will only return input data.\n",
      "Warning: No categorical columns found. Calling 'transform' will only return input data.\n",
      "Warning: No categorical columns found. Calling 'transform' will only return input data.\n",
      "Warning: No categorical columns found. Calling 'transform' will only return input data.\n",
      "Warning: No categorical columns found. Calling 'transform' will only return input data.\n"
     ]
    },
    {
     "data": {
      "text/html": [
       "<div>\n",
       "<style scoped>\n",
       "    .dataframe tbody tr th:only-of-type {\n",
       "        vertical-align: middle;\n",
       "    }\n",
       "\n",
       "    .dataframe tbody tr th {\n",
       "        vertical-align: top;\n",
       "    }\n",
       "\n",
       "    .dataframe thead th {\n",
       "        text-align: right;\n",
       "    }\n",
       "</style>\n",
       "<table border=\"1\" class=\"dataframe\">\n",
       "  <thead>\n",
       "    <tr style=\"text-align: right;\">\n",
       "      <th></th>\n",
       "      <th>mean roc_auc</th>\n",
       "      <th>sdev</th>\n",
       "    </tr>\n",
       "    <tr>\n",
       "      <th>model</th>\n",
       "      <th></th>\n",
       "      <th></th>\n",
       "    </tr>\n",
       "  </thead>\n",
       "  <tbody>\n",
       "    <tr>\n",
       "      <th>LightGBM</th>\n",
       "      <td>0.744920</td>\n",
       "      <td>0.010967</td>\n",
       "    </tr>\n",
       "    <tr>\n",
       "      <th>XGBoost</th>\n",
       "      <td>0.728288</td>\n",
       "      <td>0.011851</td>\n",
       "    </tr>\n",
       "    <tr>\n",
       "      <th>Logistic Regression</th>\n",
       "      <td>0.726390</td>\n",
       "      <td>0.019710</td>\n",
       "    </tr>\n",
       "    <tr>\n",
       "      <th>Random Forest</th>\n",
       "      <td>0.698117</td>\n",
       "      <td>0.013974</td>\n",
       "    </tr>\n",
       "    <tr>\n",
       "      <th>KNN</th>\n",
       "      <td>0.665099</td>\n",
       "      <td>0.019382</td>\n",
       "    </tr>\n",
       "    <tr>\n",
       "      <th>Decision Tree</th>\n",
       "      <td>0.613868</td>\n",
       "      <td>0.013662</td>\n",
       "    </tr>\n",
       "  </tbody>\n",
       "</table>\n",
       "</div>"
      ],
      "text/plain": [
       "                     mean roc_auc      sdev\n",
       "model                                      \n",
       "LightGBM                 0.744920  0.010967\n",
       "XGBoost                  0.728288  0.011851\n",
       "Logistic Regression      0.726390  0.019710\n",
       "Random Forest            0.698117  0.013974\n",
       "KNN                      0.665099  0.019382\n",
       "Decision Tree            0.613868  0.013662"
      ]
     },
     "execution_count": 72,
     "metadata": {},
     "output_type": "execute_result"
    }
   ],
   "source": [
    "models = [logreg, knn, dt, rf, xgb, lgbm]\n",
    "score = []\n",
    "rata = []\n",
    "std = []\n",
    "\n",
    "for i in models:\n",
    "    skfold = StratifiedKFold(n_splits = 5)\n",
    "    estimator = Pipeline([\n",
    "        ('preprocess', transformer),\n",
    "        ('model', i)])\n",
    "    model_cv = cross_val_score(estimator, x_train, y_train, cv = skfold, scoring = 'roc_auc')\n",
    "    score.append(model_cv)\n",
    "    rata.append(model_cv.mean())\n",
    "    std.append(model_cv.std())\n",
    "\n",
    "pd.DataFrame({'model':['Logistic Regression', 'KNN', 'Decision Tree', 'Random Forest', 'XGBoost', 'LightGBM'], \n",
    "              'mean roc_auc':rata, 'sdev':std}).set_index('model').sort_values(by = 'mean roc_auc', ascending = False)"
   ]
  },
  {
   "cell_type": "markdown",
   "metadata": {
    "id": "6Zj5nGgcQW57"
   },
   "source": [
    "Dari dataframe di atas, terlihat bahwa model LightGBM memiliki score ROC AUC yang paling mendekati 1 (menggunakan default hyperparameter) dibandingkan kelima model lainnya."
   ]
  },
  {
   "cell_type": "markdown",
   "metadata": {
    "id": "FmfDDANzQW57"
   },
   "source": [
    "### Model Benchmarking: Data Test"
   ]
  },
  {
   "cell_type": "markdown",
   "metadata": {},
   "source": [
    "Model benchmarking juga dilakukan terhadap data test untuk memastikan performa dari model benchmarking train data bisa diperaya dan bukan disebabkan oleh data train yang overfitting terhadap model LightGBM. "
   ]
  },
  {
   "cell_type": "code",
   "execution_count": 73,
   "metadata": {
    "id": "vYPiJ6NIQW57",
    "outputId": "32228df0-2605-4247-9d4f-e6107ff3a681"
   },
   "outputs": [
    {
     "name": "stdout",
     "output_type": "stream",
     "text": [
      "Warning: No categorical columns found. Calling 'transform' will only return input data.\n",
      "Logistic Regression \n",
      "               precision    recall  f1-score   support\n",
      "\n",
      "           0       0.66      0.71      0.68       816\n",
      "           1       0.65      0.60      0.63       747\n",
      "\n",
      "    accuracy                           0.66      1563\n",
      "   macro avg       0.66      0.65      0.65      1563\n",
      "weighted avg       0.66      0.66      0.66      1563\n",
      "\n",
      "Warning: No categorical columns found. Calling 'transform' will only return input data.\n",
      "KNN \n",
      "               precision    recall  f1-score   support\n",
      "\n",
      "           0       0.65      0.67      0.66       816\n",
      "           1       0.63      0.60      0.61       747\n",
      "\n",
      "    accuracy                           0.64      1563\n",
      "   macro avg       0.64      0.64      0.64      1563\n",
      "weighted avg       0.64      0.64      0.64      1563\n",
      "\n",
      "Warning: No categorical columns found. Calling 'transform' will only return input data.\n",
      "Decision Tree \n",
      "               precision    recall  f1-score   support\n",
      "\n",
      "           0       0.62      0.66      0.64       816\n",
      "           1       0.60      0.56      0.58       747\n",
      "\n",
      "    accuracy                           0.61      1563\n",
      "   macro avg       0.61      0.61      0.61      1563\n",
      "weighted avg       0.61      0.61      0.61      1563\n",
      "\n",
      "Warning: No categorical columns found. Calling 'transform' will only return input data.\n",
      "Random Forest \n",
      "               precision    recall  f1-score   support\n",
      "\n",
      "           0       0.67      0.70      0.68       816\n",
      "           1       0.65      0.62      0.64       747\n",
      "\n",
      "    accuracy                           0.66      1563\n",
      "   macro avg       0.66      0.66      0.66      1563\n",
      "weighted avg       0.66      0.66      0.66      1563\n",
      "\n",
      "Warning: No categorical columns found. Calling 'transform' will only return input data.\n",
      "XGBoost \n",
      "               precision    recall  f1-score   support\n",
      "\n",
      "           0       0.68      0.77      0.72       816\n",
      "           1       0.70      0.60      0.64       747\n",
      "\n",
      "    accuracy                           0.69      1563\n",
      "   macro avg       0.69      0.68      0.68      1563\n",
      "weighted avg       0.69      0.69      0.68      1563\n",
      "\n",
      "Warning: No categorical columns found. Calling 'transform' will only return input data.\n",
      "LightGBM \n",
      "               precision    recall  f1-score   support\n",
      "\n",
      "           0       0.68      0.78      0.73       816\n",
      "           1       0.71      0.60      0.65       747\n",
      "\n",
      "    accuracy                           0.69      1563\n",
      "   macro avg       0.70      0.69      0.69      1563\n",
      "weighted avg       0.70      0.69      0.69      1563\n",
      "\n"
     ]
    },
    {
     "data": {
      "text/html": [
       "<div>\n",
       "<style scoped>\n",
       "    .dataframe tbody tr th:only-of-type {\n",
       "        vertical-align: middle;\n",
       "    }\n",
       "\n",
       "    .dataframe tbody tr th {\n",
       "        vertical-align: top;\n",
       "    }\n",
       "\n",
       "    .dataframe thead th {\n",
       "        text-align: right;\n",
       "    }\n",
       "</style>\n",
       "<table border=\"1\" class=\"dataframe\">\n",
       "  <thead>\n",
       "    <tr style=\"text-align: right;\">\n",
       "      <th></th>\n",
       "      <th>roc_auc score</th>\n",
       "    </tr>\n",
       "    <tr>\n",
       "      <th>model</th>\n",
       "      <th></th>\n",
       "    </tr>\n",
       "  </thead>\n",
       "  <tbody>\n",
       "    <tr>\n",
       "      <th>LightGBM</th>\n",
       "      <td>0.746990</td>\n",
       "    </tr>\n",
       "    <tr>\n",
       "      <th>XGBoost</th>\n",
       "      <td>0.738578</td>\n",
       "    </tr>\n",
       "    <tr>\n",
       "      <th>Logistic Regression</th>\n",
       "      <td>0.721991</td>\n",
       "    </tr>\n",
       "    <tr>\n",
       "      <th>Random Forest</th>\n",
       "      <td>0.703017</td>\n",
       "    </tr>\n",
       "    <tr>\n",
       "      <th>KNN</th>\n",
       "      <td>0.658812</td>\n",
       "    </tr>\n",
       "    <tr>\n",
       "      <th>Decision Tree</th>\n",
       "      <td>0.617577</td>\n",
       "    </tr>\n",
       "  </tbody>\n",
       "</table>\n",
       "</div>"
      ],
      "text/plain": [
       "                     roc_auc score\n",
       "model                             \n",
       "LightGBM                  0.746990\n",
       "XGBoost                   0.738578\n",
       "Logistic Regression       0.721991\n",
       "Random Forest             0.703017\n",
       "KNN                       0.658812\n",
       "Decision Tree             0.617577"
      ]
     },
     "execution_count": 73,
     "metadata": {},
     "output_type": "execute_result"
    }
   ],
   "source": [
    "models = [logreg, knn, dt, rf, xgb,lgbm]\n",
    "score_roc_auc = []\n",
    "\n",
    "def y_pred_func(i):\n",
    "    estimator = Pipeline([\n",
    "        ('preprocess', transformer),\n",
    "        ('model', i)])\n",
    "    x_train, x_test\n",
    "    estimator.fit(x_train, y_train)\n",
    "    return(estimator,estimator.predict(x_test), x_test)\n",
    "\n",
    "for i, j in zip(models, ['Logistic Regression', 'KNN', 'Decision Tree', 'Random Forest', 'XGBoost','LightGBM']):\n",
    "    estimator, y_pred, x_test = y_pred_func(i)\n",
    "    y_predict_proba = estimator.predict_proba(x_test)[:,1]\n",
    "    score_roc_auc.append(roc_auc_score(y_test, y_predict_proba))\n",
    "    print(j,'\\n', classification_report(y_test, y_pred))\n",
    "\n",
    "pd.DataFrame({'model':['Logistic Regression', 'KNN', 'Decision Tree', 'Random Forest', 'XGBoost','LightGBM'],\n",
    "             'roc_auc score':score_roc_auc}).set_index('model').sort_values(by = 'roc_auc score', ascending = False)"
   ]
  },
  {
   "cell_type": "markdown",
   "metadata": {
    "id": "Sj2IrqsJQW58"
   },
   "source": [
    "Dapat dilihat kembali bahwa model LightGBM adalah yang terbaik performanya pada data test karena memiliki nilai ROC AUC yang paling mendekati 1."
   ]
  },
  {
   "cell_type": "markdown",
   "metadata": {
    "id": "4FjSh0zzQW58"
   },
   "source": [
    "### Test Oversampling with K-Fold Cross Validation"
   ]
  },
  {
   "cell_type": "markdown",
   "metadata": {},
   "source": [
    "Oversampling dilakukan terhadap data yang imbalance untuk melihat apakah setelah oversampling dilakukan, model lightGBM dapat memberikan hasil prediksi yang lebih akurat."
   ]
  },
  {
   "cell_type": "code",
   "execution_count": 79,
   "metadata": {
    "id": "x8zf6QBxQW58"
   },
   "outputs": [],
   "source": [
    "def calc_train_error(x_train, y_train, model):\n",
    "#   '''returns in-sample error for already fit model.'''\n",
    "    predictions = model.predict(x_train)\n",
    "    predictProba = model.predict_proba(x_train)\n",
    "    accuracy = accuracy_score(y_train, predictions)\n",
    "    f1 = f1_score(y_train, predictions, average='macro')\n",
    "    roc_auc = roc_auc_score(y_train, predictProba[:,1])\n",
    "    recall = recall_score(y_train, predictions)\n",
    "    precision = precision_score(y_train, predictions)\n",
    "    report = classification_report(y_train, predictions)\n",
    "    return {\n",
    "        'report': report,\n",
    "        'f1' : f1,\n",
    "        'roc': roc_auc,\n",
    "        'accuracy': accuracy,\n",
    "        'recall': recall,\n",
    "        'precision': precision\n",
    "    }\n",
    "\n",
    "def calc_validation_error(x_test, y_test, model):\n",
    "#     '''returns out-of-sample error for already fit model.'''\n",
    "    predictions = model.predict(x_test)\n",
    "    predictProba = model.predict_proba(x_test)\n",
    "    accuracy = accuracy_score(y_test, predictions)\n",
    "    f1 = f1_score(y_test, predictions, average='macro')\n",
    "    roc_auc = roc_auc_score(y_test, predictProba[:,1])\n",
    "    recall = recall_score(y_test, predictions)\n",
    "    precision = precision_score(y_test, predictions)\n",
    "    report = classification_report(y_test, predictions)\n",
    "    return {\n",
    "        'report': report,\n",
    "        'f1' : f1,\n",
    "        'roc': roc_auc,\n",
    "        'accuracy': accuracy,\n",
    "        'recall': recall,\n",
    "        'precision': precision\n",
    "    }\n",
    "\n",
    "def calc_metrics(x_train, y_train, x_test, y_test, model):\n",
    "#     '''fits model and returns the in-sample error and out-of-sample error'''\n",
    "    model.fit(x_train, y_train)\n",
    "    train_error = calc_train_error(x_train, y_train, model)\n",
    "    validation_error = calc_validation_error(x_test, y_test, model)\n",
    "    return train_error, validation_error"
   ]
  },
  {
   "cell_type": "code",
   "execution_count": 80,
   "metadata": {
    "id": "TMGwjAv-QW58"
   },
   "outputs": [],
   "source": [
    "from sklearn.model_selection import StratifiedKFold\n",
    "\n",
    "K = 10\n",
    "kf = StratifiedKFold(n_splits=K, shuffle=True, random_state=42)"
   ]
  },
  {
   "cell_type": "code",
   "execution_count": 81,
   "metadata": {
    "id": "Q_tHy41bQW58"
   },
   "outputs": [],
   "source": [
    "data = x_train\n",
    "target = y_train"
   ]
  },
  {
   "cell_type": "code",
   "execution_count": 82,
   "metadata": {
    "id": "oZuq7RBlQW58"
   },
   "outputs": [
    {
     "name": "stdout",
     "output_type": "stream",
     "text": [
      "Warning: No categorical columns found. Calling 'transform' will only return input data.\n",
      "Warning: No categorical columns found. Calling 'transform' will only return input data.\n",
      "Warning: No categorical columns found. Calling 'transform' will only return input data.\n",
      "Warning: No categorical columns found. Calling 'transform' will only return input data.\n",
      "Warning: No categorical columns found. Calling 'transform' will only return input data.\n",
      "Warning: No categorical columns found. Calling 'transform' will only return input data.\n",
      "Warning: No categorical columns found. Calling 'transform' will only return input data.\n",
      "Warning: No categorical columns found. Calling 'transform' will only return input data.\n",
      "Warning: No categorical columns found. Calling 'transform' will only return input data.\n",
      "Warning: No categorical columns found. Calling 'transform' will only return input data.\n",
      "Warning: No categorical columns found. Calling 'transform' will only return input data.\n",
      "Warning: No categorical columns found. Calling 'transform' will only return input data.\n",
      "Warning: No categorical columns found. Calling 'transform' will only return input data.\n",
      "Warning: No categorical columns found. Calling 'transform' will only return input data.\n",
      "Warning: No categorical columns found. Calling 'transform' will only return input data.\n",
      "Warning: No categorical columns found. Calling 'transform' will only return input data.\n",
      "Warning: No categorical columns found. Calling 'transform' will only return input data.\n",
      "Warning: No categorical columns found. Calling 'transform' will only return input data.\n",
      "Warning: No categorical columns found. Calling 'transform' will only return input data.\n",
      "Warning: No categorical columns found. Calling 'transform' will only return input data.\n"
     ]
    }
   ],
   "source": [
    "train_errors_without_oversampling = []\n",
    "validation_errors_without_oversampling = []\n",
    "\n",
    "train_errors_with_oversampling = []\n",
    "validation_errors_with_oversampling = []\n",
    "\n",
    "for train_index, val_index in kf.split(data, target):\n",
    "\n",
    "    # membagi data (split) antara data train dan data validasi untuk masing-masing variabel dan target\n",
    "    x_train, x_val = data.iloc[train_index], data.iloc[val_index]\n",
    "    y_train, y_val = target.iloc[train_index], target.iloc[val_index]\n",
    "\n",
    "    # print(len(X_val), (len(X_train) + len(X_val))) untuk menjalankan fungsi oversampling\n",
    "    ros = RandomOverSampler()\n",
    "\n",
    "    x_ros, y_ros = ros.fit_resample(x_train, y_train)\n",
    "\n",
    "    # untuk memasukkan model yang akan diuji dengan data oversampling (instantiate model) \n",
    "    lgbm = lgb.LGBMClassifier()\n",
    "    estimator = Pipeline([\n",
    "        ('preprocess', transformer),\n",
    "        ('model', lgbm)\n",
    "    ])\n",
    "\n",
    "    # menghitung error dari masing-masing data train dan data validation (dengan dan tanpa oversampling)\n",
    "    train_error_without_oversampling, val_error_without_oversampling = calc_metrics(x_train, y_train, x_val, y_val, estimator)\n",
    "    train_error_with_oversampling, val_error_with_oversampling = calc_metrics(x_ros, y_ros, x_val, y_val, estimator)\n",
    "\n",
    "    # masukkan nilai error ke dalam list yang sesuai \n",
    "    train_errors_without_oversampling.append(train_error_without_oversampling)\n",
    "    validation_errors_without_oversampling.append(val_error_without_oversampling)\n",
    "\n",
    "    train_errors_with_oversampling.append(train_error_with_oversampling)\n",
    "    validation_errors_with_oversampling.append(val_error_with_oversampling)"
   ]
  },
  {
   "cell_type": "markdown",
   "metadata": {
    "id": "IPn48aHeQW59"
   },
   "source": [
    "#### Evaluation Metrics without Oversampling"
   ]
  },
  {
   "cell_type": "code",
   "execution_count": 83,
   "metadata": {
    "id": "bquA00GxQW59",
    "outputId": "f317677c-f780-40b3-f7ac-11f1046027d1"
   },
   "outputs": [
    {
     "data": {
      "text/html": [
       "<div>\n",
       "<style scoped>\n",
       "    .dataframe tbody tr th:only-of-type {\n",
       "        vertical-align: middle;\n",
       "    }\n",
       "\n",
       "    .dataframe tbody tr th {\n",
       "        vertical-align: top;\n",
       "    }\n",
       "\n",
       "    .dataframe thead th {\n",
       "        text-align: right;\n",
       "    }\n",
       "</style>\n",
       "<table border=\"1\" class=\"dataframe\">\n",
       "  <thead>\n",
       "    <tr style=\"text-align: right;\">\n",
       "      <th></th>\n",
       "      <th>Train Accuracy</th>\n",
       "      <th>Test Accuracy</th>\n",
       "      <th>Train ROC AUC</th>\n",
       "      <th>Test ROC AUC</th>\n",
       "      <th>Train F1 Score</th>\n",
       "      <th>Test F1 Score</th>\n",
       "      <th>Train Recall</th>\n",
       "      <th>Test Recall</th>\n",
       "      <th>Train Precision</th>\n",
       "      <th>Test Precision</th>\n",
       "    </tr>\n",
       "  </thead>\n",
       "  <tbody>\n",
       "    <tr>\n",
       "      <th>0</th>\n",
       "      <td>0.770644</td>\n",
       "      <td>0.682060</td>\n",
       "      <td>0.862296</td>\n",
       "      <td>0.744089</td>\n",
       "      <td>0.767874</td>\n",
       "      <td>0.678157</td>\n",
       "      <td>0.692594</td>\n",
       "      <td>0.598513</td>\n",
       "      <td>0.800191</td>\n",
       "      <td>0.693966</td>\n",
       "    </tr>\n",
       "    <tr>\n",
       "      <th>1</th>\n",
       "      <td>0.772027</td>\n",
       "      <td>0.673179</td>\n",
       "      <td>0.859029</td>\n",
       "      <td>0.730679</td>\n",
       "      <td>0.769202</td>\n",
       "      <td>0.667275</td>\n",
       "      <td>0.692594</td>\n",
       "      <td>0.565056</td>\n",
       "      <td>0.802878</td>\n",
       "      <td>0.694064</td>\n",
       "    </tr>\n",
       "    <tr>\n",
       "      <th>2</th>\n",
       "      <td>0.771434</td>\n",
       "      <td>0.653641</td>\n",
       "      <td>0.857491</td>\n",
       "      <td>0.724085</td>\n",
       "      <td>0.768446</td>\n",
       "      <td>0.650180</td>\n",
       "      <td>0.688871</td>\n",
       "      <td>0.579926</td>\n",
       "      <td>0.804348</td>\n",
       "      <td>0.655462</td>\n",
       "    </tr>\n",
       "    <tr>\n",
       "      <th>3</th>\n",
       "      <td>0.770051</td>\n",
       "      <td>0.715808</td>\n",
       "      <td>0.861717</td>\n",
       "      <td>0.793851</td>\n",
       "      <td>0.766708</td>\n",
       "      <td>0.708856</td>\n",
       "      <td>0.681010</td>\n",
       "      <td>0.587361</td>\n",
       "      <td>0.807258</td>\n",
       "      <td>0.763285</td>\n",
       "    </tr>\n",
       "    <tr>\n",
       "      <th>4</th>\n",
       "      <td>0.775188</td>\n",
       "      <td>0.674956</td>\n",
       "      <td>0.860669</td>\n",
       "      <td>0.746883</td>\n",
       "      <td>0.773316</td>\n",
       "      <td>0.672958</td>\n",
       "      <td>0.716591</td>\n",
       "      <td>0.624535</td>\n",
       "      <td>0.792677</td>\n",
       "      <td>0.672000</td>\n",
       "    </tr>\n",
       "    <tr>\n",
       "      <th>5</th>\n",
       "      <td>0.776812</td>\n",
       "      <td>0.622776</td>\n",
       "      <td>0.864815</td>\n",
       "      <td>0.694381</td>\n",
       "      <td>0.773855</td>\n",
       "      <td>0.618715</td>\n",
       "      <td>0.693835</td>\n",
       "      <td>0.542751</td>\n",
       "      <td>0.811321</td>\n",
       "      <td>0.621277</td>\n",
       "    </tr>\n",
       "    <tr>\n",
       "      <th>6</th>\n",
       "      <td>0.771479</td>\n",
       "      <td>0.713523</td>\n",
       "      <td>0.859892</td>\n",
       "      <td>0.778004</td>\n",
       "      <td>0.769407</td>\n",
       "      <td>0.710546</td>\n",
       "      <td>0.708437</td>\n",
       "      <td>0.641791</td>\n",
       "      <td>0.791224</td>\n",
       "      <td>0.725738</td>\n",
       "    </tr>\n",
       "    <tr>\n",
       "      <th>7</th>\n",
       "      <td>0.765357</td>\n",
       "      <td>0.693950</td>\n",
       "      <td>0.859119</td>\n",
       "      <td>0.755946</td>\n",
       "      <td>0.762312</td>\n",
       "      <td>0.686258</td>\n",
       "      <td>0.682796</td>\n",
       "      <td>0.563433</td>\n",
       "      <td>0.796815</td>\n",
       "      <td>0.733010</td>\n",
       "    </tr>\n",
       "    <tr>\n",
       "      <th>8</th>\n",
       "      <td>0.769307</td>\n",
       "      <td>0.699288</td>\n",
       "      <td>0.861285</td>\n",
       "      <td>0.757532</td>\n",
       "      <td>0.767258</td>\n",
       "      <td>0.696163</td>\n",
       "      <td>0.707196</td>\n",
       "      <td>0.626866</td>\n",
       "      <td>0.788018</td>\n",
       "      <td>0.708861</td>\n",
       "    </tr>\n",
       "    <tr>\n",
       "      <th>9</th>\n",
       "      <td>0.776615</td>\n",
       "      <td>0.661922</td>\n",
       "      <td>0.863047</td>\n",
       "      <td>0.736579</td>\n",
       "      <td>0.773967</td>\n",
       "      <td>0.657480</td>\n",
       "      <td>0.699752</td>\n",
       "      <td>0.574627</td>\n",
       "      <td>0.806867</td>\n",
       "      <td>0.669565</td>\n",
       "    </tr>\n",
       "    <tr>\n",
       "      <th>Average</th>\n",
       "      <td>0.771891</td>\n",
       "      <td>0.679110</td>\n",
       "      <td>0.860936</td>\n",
       "      <td>0.746203</td>\n",
       "      <td>0.769234</td>\n",
       "      <td>0.674659</td>\n",
       "      <td>0.696367</td>\n",
       "      <td>0.590486</td>\n",
       "      <td>0.800160</td>\n",
       "      <td>0.693723</td>\n",
       "    </tr>\n",
       "  </tbody>\n",
       "</table>\n",
       "</div>"
      ],
      "text/plain": [
       "         Train Accuracy  Test Accuracy  Train ROC AUC  Test ROC AUC  \\\n",
       "0              0.770644       0.682060       0.862296      0.744089   \n",
       "1              0.772027       0.673179       0.859029      0.730679   \n",
       "2              0.771434       0.653641       0.857491      0.724085   \n",
       "3              0.770051       0.715808       0.861717      0.793851   \n",
       "4              0.775188       0.674956       0.860669      0.746883   \n",
       "5              0.776812       0.622776       0.864815      0.694381   \n",
       "6              0.771479       0.713523       0.859892      0.778004   \n",
       "7              0.765357       0.693950       0.859119      0.755946   \n",
       "8              0.769307       0.699288       0.861285      0.757532   \n",
       "9              0.776615       0.661922       0.863047      0.736579   \n",
       "Average        0.771891       0.679110       0.860936      0.746203   \n",
       "\n",
       "         Train F1 Score  Test F1 Score  Train Recall  Test Recall  \\\n",
       "0              0.767874       0.678157      0.692594     0.598513   \n",
       "1              0.769202       0.667275      0.692594     0.565056   \n",
       "2              0.768446       0.650180      0.688871     0.579926   \n",
       "3              0.766708       0.708856      0.681010     0.587361   \n",
       "4              0.773316       0.672958      0.716591     0.624535   \n",
       "5              0.773855       0.618715      0.693835     0.542751   \n",
       "6              0.769407       0.710546      0.708437     0.641791   \n",
       "7              0.762312       0.686258      0.682796     0.563433   \n",
       "8              0.767258       0.696163      0.707196     0.626866   \n",
       "9              0.773967       0.657480      0.699752     0.574627   \n",
       "Average        0.769234       0.674659      0.696367     0.590486   \n",
       "\n",
       "         Train Precision  Test Precision  \n",
       "0               0.800191        0.693966  \n",
       "1               0.802878        0.694064  \n",
       "2               0.804348        0.655462  \n",
       "3               0.807258        0.763285  \n",
       "4               0.792677        0.672000  \n",
       "5               0.811321        0.621277  \n",
       "6               0.791224        0.725738  \n",
       "7               0.796815        0.733010  \n",
       "8               0.788018        0.708861  \n",
       "9               0.806867        0.669565  \n",
       "Average         0.800160        0.693723  "
      ]
     },
     "execution_count": 83,
     "metadata": {},
     "output_type": "execute_result"
    }
   ],
   "source": [
    "listItem = []\n",
    "\n",
    "for tr,val in zip(train_errors_without_oversampling,validation_errors_without_oversampling) :\n",
    "    listItem.append([tr['accuracy'],val['accuracy'],tr['roc'],val['roc'],tr['f1'],val['f1'],\n",
    "                     tr['recall'],val['recall'],tr['precision'],val['precision']])\n",
    "\n",
    "listItem.append(list(np.mean(listItem,axis=0)))\n",
    "\n",
    "dfEvaluate = pd.DataFrame(listItem,\n",
    "                    columns=['Train Accuracy',\n",
    "                            'Test Accuracy',\n",
    "                            'Train ROC AUC',\n",
    "                            'Test ROC AUC',\n",
    "                            'Train F1 Score',\n",
    "                            'Test F1 Score',\n",
    "                            'Train Recall',\n",
    "                            'Test Recall',\n",
    "                            'Train Precision',\n",
    "                            'Test Precision'])\n",
    "\n",
    "listIndex = list(dfEvaluate.index)\n",
    "listIndex[-1] = 'Average'\n",
    "dfEvaluate.index = listIndex\n",
    "dfEvaluate"
   ]
  },
  {
   "cell_type": "markdown",
   "metadata": {
    "id": "gFM4Hp2CQW59"
   },
   "source": [
    "#### Evaluation Metrics with Oversampling"
   ]
  },
  {
   "cell_type": "code",
   "execution_count": 84,
   "metadata": {
    "id": "sE6Bm-A7QW59",
    "outputId": "6d7ac5bc-d3c2-40e8-aab2-4a600fd3957d"
   },
   "outputs": [
    {
     "data": {
      "text/html": [
       "<div>\n",
       "<style scoped>\n",
       "    .dataframe tbody tr th:only-of-type {\n",
       "        vertical-align: middle;\n",
       "    }\n",
       "\n",
       "    .dataframe tbody tr th {\n",
       "        vertical-align: top;\n",
       "    }\n",
       "\n",
       "    .dataframe thead th {\n",
       "        text-align: right;\n",
       "    }\n",
       "</style>\n",
       "<table border=\"1\" class=\"dataframe\">\n",
       "  <thead>\n",
       "    <tr style=\"text-align: right;\">\n",
       "      <th></th>\n",
       "      <th>Train Accuracy</th>\n",
       "      <th>Test Accuracy</th>\n",
       "      <th>Train ROC AUC</th>\n",
       "      <th>Test ROC AUC</th>\n",
       "      <th>Train F1 Score</th>\n",
       "      <th>Test F1 Score</th>\n",
       "      <th>Train Recall</th>\n",
       "      <th>Test Recall</th>\n",
       "      <th>Train Precision</th>\n",
       "      <th>Test Precision</th>\n",
       "    </tr>\n",
       "  </thead>\n",
       "  <tbody>\n",
       "    <tr>\n",
       "      <th>0</th>\n",
       "      <td>0.774858</td>\n",
       "      <td>0.680284</td>\n",
       "      <td>0.866566</td>\n",
       "      <td>0.747376</td>\n",
       "      <td>0.774479</td>\n",
       "      <td>0.677844</td>\n",
       "      <td>0.733837</td>\n",
       "      <td>0.620818</td>\n",
       "      <td>0.799423</td>\n",
       "      <td>0.681633</td>\n",
       "    </tr>\n",
       "    <tr>\n",
       "      <th>1</th>\n",
       "      <td>0.771645</td>\n",
       "      <td>0.676732</td>\n",
       "      <td>0.859824</td>\n",
       "      <td>0.734283</td>\n",
       "      <td>0.771234</td>\n",
       "      <td>0.673142</td>\n",
       "      <td>0.729301</td>\n",
       "      <td>0.598513</td>\n",
       "      <td>0.796778</td>\n",
       "      <td>0.685106</td>\n",
       "    </tr>\n",
       "    <tr>\n",
       "      <th>2</th>\n",
       "      <td>0.779773</td>\n",
       "      <td>0.642984</td>\n",
       "      <td>0.858523</td>\n",
       "      <td>0.723997</td>\n",
       "      <td>0.779650</td>\n",
       "      <td>0.642438</td>\n",
       "      <td>0.756144</td>\n",
       "      <td>0.631970</td>\n",
       "      <td>0.793651</td>\n",
       "      <td>0.625000</td>\n",
       "    </tr>\n",
       "    <tr>\n",
       "      <th>3</th>\n",
       "      <td>0.774858</td>\n",
       "      <td>0.717584</td>\n",
       "      <td>0.864930</td>\n",
       "      <td>0.796216</td>\n",
       "      <td>0.774184</td>\n",
       "      <td>0.713887</td>\n",
       "      <td>0.720227</td>\n",
       "      <td>0.631970</td>\n",
       "      <td>0.808574</td>\n",
       "      <td>0.739130</td>\n",
       "    </tr>\n",
       "    <tr>\n",
       "      <th>4</th>\n",
       "      <td>0.778450</td>\n",
       "      <td>0.669627</td>\n",
       "      <td>0.863466</td>\n",
       "      <td>0.750291</td>\n",
       "      <td>0.778383</td>\n",
       "      <td>0.669501</td>\n",
       "      <td>0.761059</td>\n",
       "      <td>0.680297</td>\n",
       "      <td>0.788484</td>\n",
       "      <td>0.646643</td>\n",
       "    </tr>\n",
       "    <tr>\n",
       "      <th>5</th>\n",
       "      <td>0.786092</td>\n",
       "      <td>0.637011</td>\n",
       "      <td>0.870876</td>\n",
       "      <td>0.696626</td>\n",
       "      <td>0.785735</td>\n",
       "      <td>0.635515</td>\n",
       "      <td>0.745276</td>\n",
       "      <td>0.598513</td>\n",
       "      <td>0.811523</td>\n",
       "      <td>0.626459</td>\n",
       "    </tr>\n",
       "    <tr>\n",
       "      <th>6</th>\n",
       "      <td>0.779395</td>\n",
       "      <td>0.709964</td>\n",
       "      <td>0.863601</td>\n",
       "      <td>0.771995</td>\n",
       "      <td>0.778905</td>\n",
       "      <td>0.708561</td>\n",
       "      <td>0.732325</td>\n",
       "      <td>0.671642</td>\n",
       "      <td>0.808431</td>\n",
       "      <td>0.705882</td>\n",
       "    </tr>\n",
       "    <tr>\n",
       "      <th>7</th>\n",
       "      <td>0.773724</td>\n",
       "      <td>0.686833</td>\n",
       "      <td>0.862377</td>\n",
       "      <td>0.753998</td>\n",
       "      <td>0.773514</td>\n",
       "      <td>0.683222</td>\n",
       "      <td>0.743289</td>\n",
       "      <td>0.608209</td>\n",
       "      <td>0.791465</td>\n",
       "      <td>0.696581</td>\n",
       "    </tr>\n",
       "    <tr>\n",
       "      <th>8</th>\n",
       "      <td>0.778639</td>\n",
       "      <td>0.697509</td>\n",
       "      <td>0.864735</td>\n",
       "      <td>0.747138</td>\n",
       "      <td>0.778511</td>\n",
       "      <td>0.695469</td>\n",
       "      <td>0.754631</td>\n",
       "      <td>0.645522</td>\n",
       "      <td>0.792693</td>\n",
       "      <td>0.697581</td>\n",
       "    </tr>\n",
       "    <tr>\n",
       "      <th>9</th>\n",
       "      <td>0.777505</td>\n",
       "      <td>0.663701</td>\n",
       "      <td>0.863247</td>\n",
       "      <td>0.741357</td>\n",
       "      <td>0.777164</td>\n",
       "      <td>0.662074</td>\n",
       "      <td>0.738374</td>\n",
       "      <td>0.623134</td>\n",
       "      <td>0.801066</td>\n",
       "      <td>0.654902</td>\n",
       "    </tr>\n",
       "    <tr>\n",
       "      <th>Average</th>\n",
       "      <td>0.777494</td>\n",
       "      <td>0.678223</td>\n",
       "      <td>0.863815</td>\n",
       "      <td>0.746328</td>\n",
       "      <td>0.777176</td>\n",
       "      <td>0.676165</td>\n",
       "      <td>0.741446</td>\n",
       "      <td>0.631059</td>\n",
       "      <td>0.799209</td>\n",
       "      <td>0.675892</td>\n",
       "    </tr>\n",
       "  </tbody>\n",
       "</table>\n",
       "</div>"
      ],
      "text/plain": [
       "         Train Accuracy  Test Accuracy  Train ROC AUC  Test ROC AUC  \\\n",
       "0              0.774858       0.680284       0.866566      0.747376   \n",
       "1              0.771645       0.676732       0.859824      0.734283   \n",
       "2              0.779773       0.642984       0.858523      0.723997   \n",
       "3              0.774858       0.717584       0.864930      0.796216   \n",
       "4              0.778450       0.669627       0.863466      0.750291   \n",
       "5              0.786092       0.637011       0.870876      0.696626   \n",
       "6              0.779395       0.709964       0.863601      0.771995   \n",
       "7              0.773724       0.686833       0.862377      0.753998   \n",
       "8              0.778639       0.697509       0.864735      0.747138   \n",
       "9              0.777505       0.663701       0.863247      0.741357   \n",
       "Average        0.777494       0.678223       0.863815      0.746328   \n",
       "\n",
       "         Train F1 Score  Test F1 Score  Train Recall  Test Recall  \\\n",
       "0              0.774479       0.677844      0.733837     0.620818   \n",
       "1              0.771234       0.673142      0.729301     0.598513   \n",
       "2              0.779650       0.642438      0.756144     0.631970   \n",
       "3              0.774184       0.713887      0.720227     0.631970   \n",
       "4              0.778383       0.669501      0.761059     0.680297   \n",
       "5              0.785735       0.635515      0.745276     0.598513   \n",
       "6              0.778905       0.708561      0.732325     0.671642   \n",
       "7              0.773514       0.683222      0.743289     0.608209   \n",
       "8              0.778511       0.695469      0.754631     0.645522   \n",
       "9              0.777164       0.662074      0.738374     0.623134   \n",
       "Average        0.777176       0.676165      0.741446     0.631059   \n",
       "\n",
       "         Train Precision  Test Precision  \n",
       "0               0.799423        0.681633  \n",
       "1               0.796778        0.685106  \n",
       "2               0.793651        0.625000  \n",
       "3               0.808574        0.739130  \n",
       "4               0.788484        0.646643  \n",
       "5               0.811523        0.626459  \n",
       "6               0.808431        0.705882  \n",
       "7               0.791465        0.696581  \n",
       "8               0.792693        0.697581  \n",
       "9               0.801066        0.654902  \n",
       "Average         0.799209        0.675892  "
      ]
     },
     "execution_count": 84,
     "metadata": {},
     "output_type": "execute_result"
    }
   ],
   "source": [
    "listItem = []\n",
    "\n",
    "for tr,val in zip(train_errors_with_oversampling,validation_errors_with_oversampling) :\n",
    "    listItem.append([tr['accuracy'], val['accuracy'], tr['roc'], val['roc'], tr['f1'], val['f1'],\n",
    "                     tr['recall'], val['recall'], tr['precision'], val['precision']])\n",
    "\n",
    "listItem.append(list(np.mean(listItem,axis=0)))\n",
    "\n",
    "dfEvaluate = pd.DataFrame(listItem,\n",
    "                    columns=['Train Accuracy',\n",
    "                            'Test Accuracy',\n",
    "                            'Train ROC AUC',\n",
    "                            'Test ROC AUC',\n",
    "                            'Train F1 Score',\n",
    "                            'Test F1 Score',\n",
    "                            'Train Recall',\n",
    "                            'Test Recall',\n",
    "                            'Train Precision',\n",
    "                            'Test Precision'])\n",
    "\n",
    "listIndex = list(dfEvaluate.index)\n",
    "listIndex[-1] = 'Average'\n",
    "dfEvaluate.index = listIndex\n",
    "dfEvaluate"
   ]
  },
  {
   "cell_type": "markdown",
   "metadata": {
    "id": "In86Ywg1QW59"
   },
   "source": [
    "Hasil evaluation metrics untuk recall dari kelas positive (`deposit` = yes) lebih baik atau lebih tinggi setelah dilakukan oversampling tetapi skor evaluation metrics untuk precision dalam menebak kelas positif menjadi sedikit lebih buruk. Hal ini memang bisa terjadi karena jumlah data kelas positif diperbanyak agar sama dengan jumlah data kelas negatif sehingga recall dari kelas yang minoritas naik yang berdampak pada precision menjadi turun. Namun, bila diamati, kenaikan recall lebih besar dibandingkan dengan penurunan precision. \n",
    "\n",
    "Dapat dikatakan bahwa setelah kita melakukan oversampling, model bisa menghasilkan prediksi jumlah nasabah yang lebih banyak daripada sebelumnya tetapi ketepatan/precision dalam menebak nasabah potensial berkurang yang menyebabkan *cost* marketing yang terbuang menjadi lebih tinggi bila dibandingkan dengan model yang tidak dilakukan oversampling.\n",
    "\n",
    "Apa jenis model yang sebaiknya digunakan? Dalam penentuan model, kita harus melihat situasi permasalahan yang sedang dihadapi. \n",
    "1. Sudah cukup banyak nasabah yang mengambil deposito berjangka dan kita tidak membutuhkan semua nasabah untuk disertakan dalam *marketing campaign*\n",
    "2. Nasabah yang mengambil deposito berjangka masih sedikit jumlahnya atau pas-pasan.\n",
    "\n",
    "Apabila kasus 1 yang terjadi, maka kita dapat menggunakan model tanpa oversampling (precision lebih penting dibandingkan recall). Namun, bila kasus 2 yang dihadapi, maka kita dapat menggunakan model dengan oversampling (recall lebih penting dari precision). \n",
    "\n",
    "Pemilihan model yang akan digunakan harus didasarkan pada situasi permasalahan yang dihadapi maupun yang dapat menyelesaikan masalah dengan lebih baik, dalam hal ini memberikan hasil yang optimal untuk *marketing campaign* yang akan diadakan Bank XYZ.  \n",
    "Berikutnya, kita akan coba melihat classification report."
   ]
  },
  {
   "cell_type": "markdown",
   "metadata": {
    "id": "JX_tGgp7QW59"
   },
   "source": [
    "#### Classification Reports without Oversampling"
   ]
  },
  {
   "cell_type": "markdown",
   "metadata": {},
   "source": [
    "Berikut ini adalah classification report dari performa model machine learning LightGBM yang dijalankan sebanyak 10 kali percobaan tanpa oversampling (K = 10)."
   ]
  },
  {
   "cell_type": "code",
   "execution_count": 96,
   "metadata": {
    "id": "B04kGdFpQW59",
    "outputId": "87b9b408-5119-4ee5-bb12-4109293c6e50"
   },
   "outputs": [
    {
     "name": "stdout",
     "output_type": "stream",
     "text": [
      "              precision    recall  f1-score   support\n",
      "\n",
      "           0       0.67      0.76      0.71       294\n",
      "           1       0.69      0.60      0.64       269\n",
      "\n",
      "    accuracy                           0.68       563\n",
      "   macro avg       0.68      0.68      0.68       563\n",
      "weighted avg       0.68      0.68      0.68       563\n",
      "\n",
      "              precision    recall  f1-score   support\n",
      "\n",
      "           0       0.66      0.77      0.71       294\n",
      "           1       0.69      0.57      0.62       269\n",
      "\n",
      "    accuracy                           0.67       563\n",
      "   macro avg       0.68      0.67      0.67       563\n",
      "weighted avg       0.68      0.67      0.67       563\n",
      "\n",
      "              precision    recall  f1-score   support\n",
      "\n",
      "           0       0.65      0.72      0.68       294\n",
      "           1       0.66      0.58      0.62       269\n",
      "\n",
      "    accuracy                           0.65       563\n",
      "   macro avg       0.65      0.65      0.65       563\n",
      "weighted avg       0.65      0.65      0.65       563\n",
      "\n",
      "              precision    recall  f1-score   support\n",
      "\n",
      "           0       0.69      0.83      0.75       294\n",
      "           1       0.76      0.59      0.66       269\n",
      "\n",
      "    accuracy                           0.72       563\n",
      "   macro avg       0.73      0.71      0.71       563\n",
      "weighted avg       0.72      0.72      0.71       563\n",
      "\n",
      "              precision    recall  f1-score   support\n",
      "\n",
      "           0       0.68      0.72      0.70       294\n",
      "           1       0.67      0.62      0.65       269\n",
      "\n",
      "    accuracy                           0.67       563\n",
      "   macro avg       0.67      0.67      0.67       563\n",
      "weighted avg       0.67      0.67      0.67       563\n",
      "\n",
      "              precision    recall  f1-score   support\n",
      "\n",
      "           0       0.62      0.70      0.66       293\n",
      "           1       0.62      0.54      0.58       269\n",
      "\n",
      "    accuracy                           0.62       562\n",
      "   macro avg       0.62      0.62      0.62       562\n",
      "weighted avg       0.62      0.62      0.62       562\n",
      "\n",
      "              precision    recall  f1-score   support\n",
      "\n",
      "           0       0.70      0.78      0.74       294\n",
      "           1       0.73      0.64      0.68       268\n",
      "\n",
      "    accuracy                           0.71       562\n",
      "   macro avg       0.72      0.71      0.71       562\n",
      "weighted avg       0.71      0.71      0.71       562\n",
      "\n",
      "              precision    recall  f1-score   support\n",
      "\n",
      "           0       0.67      0.81      0.74       294\n",
      "           1       0.73      0.56      0.64       268\n",
      "\n",
      "    accuracy                           0.69       562\n",
      "   macro avg       0.70      0.69      0.69       562\n",
      "weighted avg       0.70      0.69      0.69       562\n",
      "\n",
      "              precision    recall  f1-score   support\n",
      "\n",
      "           0       0.69      0.77      0.73       294\n",
      "           1       0.71      0.63      0.67       268\n",
      "\n",
      "    accuracy                           0.70       562\n",
      "   macro avg       0.70      0.70      0.70       562\n",
      "weighted avg       0.70      0.70      0.70       562\n",
      "\n",
      "              precision    recall  f1-score   support\n",
      "\n",
      "           0       0.66      0.74      0.70       294\n",
      "           1       0.67      0.57      0.62       268\n",
      "\n",
      "    accuracy                           0.66       562\n",
      "   macro avg       0.66      0.66      0.66       562\n",
      "weighted avg       0.66      0.66      0.66       562\n",
      "\n"
     ]
    }
   ],
   "source": [
    "for rep in validation_errors_without_oversampling:\n",
    "    print(rep['report'])"
   ]
  },
  {
   "cell_type": "markdown",
   "metadata": {
    "id": "DDUNL1xyQW59"
   },
   "source": [
    "#### Classification Reports with Oversampling"
   ]
  },
  {
   "cell_type": "markdown",
   "metadata": {},
   "source": [
    "Berikut ini adalah classification report dari performa model machine learning LightGBM yang dijalankan sebanyak 10 kali percobaan dengan oversampling (K = 10)."
   ]
  },
  {
   "cell_type": "code",
   "execution_count": 97,
   "metadata": {
    "id": "c9JH4ZSAQW5-",
    "outputId": "4feb07c4-1994-4fbe-d436-b9ec8a9b73f0"
   },
   "outputs": [
    {
     "name": "stdout",
     "output_type": "stream",
     "text": [
      "              precision    recall  f1-score   support\n",
      "\n",
      "           0       0.68      0.73      0.71       294\n",
      "           1       0.68      0.62      0.65       269\n",
      "\n",
      "    accuracy                           0.68       563\n",
      "   macro avg       0.68      0.68      0.68       563\n",
      "weighted avg       0.68      0.68      0.68       563\n",
      "\n",
      "              precision    recall  f1-score   support\n",
      "\n",
      "           0       0.67      0.75      0.71       294\n",
      "           1       0.69      0.60      0.64       269\n",
      "\n",
      "    accuracy                           0.68       563\n",
      "   macro avg       0.68      0.67      0.67       563\n",
      "weighted avg       0.68      0.68      0.67       563\n",
      "\n",
      "              precision    recall  f1-score   support\n",
      "\n",
      "           0       0.66      0.65      0.66       294\n",
      "           1       0.62      0.63      0.63       269\n",
      "\n",
      "    accuracy                           0.64       563\n",
      "   macro avg       0.64      0.64      0.64       563\n",
      "weighted avg       0.64      0.64      0.64       563\n",
      "\n",
      "              precision    recall  f1-score   support\n",
      "\n",
      "           0       0.70      0.80      0.75       294\n",
      "           1       0.74      0.63      0.68       269\n",
      "\n",
      "    accuracy                           0.72       563\n",
      "   macro avg       0.72      0.71      0.71       563\n",
      "weighted avg       0.72      0.72      0.72       563\n",
      "\n",
      "              precision    recall  f1-score   support\n",
      "\n",
      "           0       0.69      0.66      0.68       294\n",
      "           1       0.65      0.68      0.66       269\n",
      "\n",
      "    accuracy                           0.67       563\n",
      "   macro avg       0.67      0.67      0.67       563\n",
      "weighted avg       0.67      0.67      0.67       563\n",
      "\n",
      "              precision    recall  f1-score   support\n",
      "\n",
      "           0       0.65      0.67      0.66       293\n",
      "           1       0.63      0.60      0.61       269\n",
      "\n",
      "    accuracy                           0.64       562\n",
      "   macro avg       0.64      0.64      0.64       562\n",
      "weighted avg       0.64      0.64      0.64       562\n",
      "\n",
      "              precision    recall  f1-score   support\n",
      "\n",
      "           0       0.71      0.74      0.73       294\n",
      "           1       0.71      0.67      0.69       268\n",
      "\n",
      "    accuracy                           0.71       562\n",
      "   macro avg       0.71      0.71      0.71       562\n",
      "weighted avg       0.71      0.71      0.71       562\n",
      "\n",
      "              precision    recall  f1-score   support\n",
      "\n",
      "           0       0.68      0.76      0.72       294\n",
      "           1       0.70      0.61      0.65       268\n",
      "\n",
      "    accuracy                           0.69       562\n",
      "   macro avg       0.69      0.68      0.68       562\n",
      "weighted avg       0.69      0.69      0.68       562\n",
      "\n",
      "              precision    recall  f1-score   support\n",
      "\n",
      "           0       0.70      0.74      0.72       294\n",
      "           1       0.70      0.65      0.67       268\n",
      "\n",
      "    accuracy                           0.70       562\n",
      "   macro avg       0.70      0.70      0.70       562\n",
      "weighted avg       0.70      0.70      0.70       562\n",
      "\n",
      "              precision    recall  f1-score   support\n",
      "\n",
      "           0       0.67      0.70      0.69       294\n",
      "           1       0.65      0.62      0.64       268\n",
      "\n",
      "    accuracy                           0.66       562\n",
      "   macro avg       0.66      0.66      0.66       562\n",
      "weighted avg       0.66      0.66      0.66       562\n",
      "\n"
     ]
    }
   ],
   "source": [
    "for rep in validation_errors_with_oversampling:\n",
    "    print(rep['report'])"
   ]
  },
  {
   "cell_type": "markdown",
   "metadata": {
    "id": "3_MDv5DdQW5-"
   },
   "source": [
    "Berdasarkan perbandingan classification reports di atas, model yang telah dilakukan oversampling memiliki recall dari kedua kelas (0 dan 1) yang lebih seimbang. Oleh karena itu, untuk kasus kali ini, kita akan menggunakan model with oversampling di mana kasus 2 menjadi situasi permasalahan yang akan diselesaikan (membutuhkan nasabah deposito berjangka yang lebih banyak)."
   ]
  },
  {
   "cell_type": "markdown",
   "metadata": {
    "id": "SCRf4VWPQW5-"
   },
   "source": [
    "### Hyperparameter Tuning"
   ]
  },
  {
   "cell_type": "markdown",
   "metadata": {},
   "source": [
    "Kita juga akan mencoba untuk melakukan hyperparameter tuning pada model LightGBM untuk mendapatkan parameter yang paling baik agar model LightGBM dapat memproses data dengan lebih efisien."
   ]
  },
  {
   "cell_type": "markdown",
   "metadata": {
    "id": "7IlbXMBQQW5-"
   },
   "source": [
    "Refrensi parameter tuning untuk model LightGBM: https://lightgbm.readthedocs.io/en/latest/Parameters-Tuning.html"
   ]
  },
  {
   "cell_type": "code",
   "execution_count": 98,
   "metadata": {
    "id": "QAv7dasjQW5-"
   },
   "outputs": [],
   "source": [
    "lgbm = lgb.LGBMClassifier()\n",
    "ros = RandomOverSampler(random_state=42)\n",
    "\n",
    "estimator=Pipeline([\n",
    "    ('oversampling',ros),\n",
    "    ('preprocess',transformer),\n",
    "    ('model',lgbm)\n",
    "])"
   ]
  },
  {
   "cell_type": "code",
   "execution_count": 99,
   "metadata": {
    "id": "8NmYUnWtQW5-"
   },
   "outputs": [],
   "source": [
    "# hyperparam_space=[{\n",
    "#     'model__max_bin': [255, 275, 300, 230], # semakin tinggi max_bin semakin tinggi accuracy tetapi semakin lambat data training\n",
    "#     'model__num_leaves':[31, 21, 41, 51], # paramameter utama untuk mengatur kompleksitas model tree, di mana semakin tinggi num_leaves, semakin tinggi accuracy\n",
    "#     'model__min_data_in_leaf': [20, 15, 30, 40], # digunakan untuk mencegah overfitting dengan menaikkan angkanya\n",
    "#     'model__num_iterations':[100,75, 125, 150], # semakin kecil nilainya, training time akan berkurang, namun accuracy juga berkurang\n",
    "#     'model__learning_rate': [0.1, 0.075, 0.125, 0.05], # bila dinaikkan, accuracy akan semakin naik\n",
    "#     'model__random_state': [42]\n",
    "# }]"
   ]
  },
  {
   "cell_type": "code",
   "execution_count": 107,
   "metadata": {},
   "outputs": [],
   "source": [
    "hyperparam_space=[{\n",
    "    'model__max_bin': [255, 260, 265, 270], # semakin tinggi max_bin semakin tinggi accuracy tetapi semakin lambat data training\n",
    "    'model__num_leaves':[31, 32, 33, 34], # mengatur kompleksitas model tree, semakin tinggi num_leaves, semakin tinggi accuracy\n",
    "    'model__min_data_in_leaf': [20, 22, 24, 26], # digunakan untuk mencegah overfitting dengan menaikkan angkanya\n",
    "    'model__num_iterations':[100, 75, 70, 65], # semakin kecil nilainya, training time akan berkurang, namun accuracy juga berkurang\n",
    "    'model__learning_rate': [0.1, 0.11, 0.113, 0.115], # bila dinaikkan, accuracy akan semakin naik\n",
    "    'model__random_state': [42]\n",
    "}]"
   ]
  },
  {
   "cell_type": "markdown",
   "metadata": {
    "id": "GhoF1djdQW5-"
   },
   "source": [
    "Nilai default hyperparameter LightGBM: `max_bin` = 255, `num_leaves` = 31, `min_data_in_leaf` = 20, `num_iterations` = 100, `learning_rate` = 0.1"
   ]
  },
  {
   "cell_type": "code",
   "execution_count": 108,
   "metadata": {
    "id": "54yWTMJlQW5-"
   },
   "outputs": [],
   "source": [
    "grid = GridSearchCV(estimator, n_jobs=-1, param_grid=hyperparam_space, scoring='roc_auc', cv=StratifiedKFold(n_splits=10, shuffle=True, random_state=42))"
   ]
  },
  {
   "cell_type": "markdown",
   "metadata": {},
   "source": [
    "Function GridSearchCV digunakan untuk mencari kombinasi value dari setiap parameter yang paling optimal."
   ]
  },
  {
   "cell_type": "code",
   "execution_count": 109,
   "metadata": {
    "id": "whdZ3UIgQW5-",
    "outputId": "a555d538-2651-40c5-8dae-800dae6767bc"
   },
   "outputs": [
    {
     "name": "stdout",
     "output_type": "stream",
     "text": [
      "Warning: No categorical columns found. Calling 'transform' will only return input data.\n",
      "[LightGBM] [Warning] min_data_in_leaf is set=26, min_child_samples=20 will be ignored. Current value: min_data_in_leaf=26\n",
      "0.7486203660906312\n",
      "{'model__learning_rate': 0.1, 'model__max_bin': 255, 'model__min_data_in_leaf': 26, 'model__num_iterations': 65, 'model__num_leaves': 33, 'model__random_state': 42}\n"
     ]
    }
   ],
   "source": [
    "grid.fit(x_train, y_train)\n",
    "print(grid.best_score_)\n",
    "print(grid.best_params_)"
   ]
  },
  {
   "cell_type": "markdown",
   "metadata": {
    "id": "MOFSqWiTQW5_"
   },
   "source": [
    "Hyperparameter terbaik untuk LightGBM dari hasil Gridsearch => `max_bin` = 255, `num_leaves` = 33, `min_data_in_leaf` = 26, `num_iterations` = 65, `learning_rate` = 0.1\n",
    "\n",
    "Parameter yang dimasukkan berdasarkan trial dan error dengan menaikkan atau menurunkan nilai default parameter."
   ]
  },
  {
   "cell_type": "code",
   "execution_count": 110,
   "metadata": {
    "id": "3WDx1xe4QW5_",
    "outputId": "e13c68b7-5c8b-4e44-d15c-762e5ce2be14"
   },
   "outputs": [
    {
     "name": "stdout",
     "output_type": "stream",
     "text": [
      "Warning: No categorical columns found. Calling 'transform' will only return input data.\n"
     ]
    },
    {
     "data": {
      "text/html": [
       "<style>#sk-container-id-5 {color: black;background-color: white;}#sk-container-id-5 pre{padding: 0;}#sk-container-id-5 div.sk-toggleable {background-color: white;}#sk-container-id-5 label.sk-toggleable__label {cursor: pointer;display: block;width: 100%;margin-bottom: 0;padding: 0.3em;box-sizing: border-box;text-align: center;}#sk-container-id-5 label.sk-toggleable__label-arrow:before {content: \"▸\";float: left;margin-right: 0.25em;color: #696969;}#sk-container-id-5 label.sk-toggleable__label-arrow:hover:before {color: black;}#sk-container-id-5 div.sk-estimator:hover label.sk-toggleable__label-arrow:before {color: black;}#sk-container-id-5 div.sk-toggleable__content {max-height: 0;max-width: 0;overflow: hidden;text-align: left;background-color: #f0f8ff;}#sk-container-id-5 div.sk-toggleable__content pre {margin: 0.2em;color: black;border-radius: 0.25em;background-color: #f0f8ff;}#sk-container-id-5 input.sk-toggleable__control:checked~div.sk-toggleable__content {max-height: 200px;max-width: 100%;overflow: auto;}#sk-container-id-5 input.sk-toggleable__control:checked~label.sk-toggleable__label-arrow:before {content: \"▾\";}#sk-container-id-5 div.sk-estimator input.sk-toggleable__control:checked~label.sk-toggleable__label {background-color: #d4ebff;}#sk-container-id-5 div.sk-label input.sk-toggleable__control:checked~label.sk-toggleable__label {background-color: #d4ebff;}#sk-container-id-5 input.sk-hidden--visually {border: 0;clip: rect(1px 1px 1px 1px);clip: rect(1px, 1px, 1px, 1px);height: 1px;margin: -1px;overflow: hidden;padding: 0;position: absolute;width: 1px;}#sk-container-id-5 div.sk-estimator {font-family: monospace;background-color: #f0f8ff;border: 1px dotted black;border-radius: 0.25em;box-sizing: border-box;margin-bottom: 0.5em;}#sk-container-id-5 div.sk-estimator:hover {background-color: #d4ebff;}#sk-container-id-5 div.sk-parallel-item::after {content: \"\";width: 100%;border-bottom: 1px solid gray;flex-grow: 1;}#sk-container-id-5 div.sk-label:hover label.sk-toggleable__label {background-color: #d4ebff;}#sk-container-id-5 div.sk-serial::before {content: \"\";position: absolute;border-left: 1px solid gray;box-sizing: border-box;top: 0;bottom: 0;left: 50%;z-index: 0;}#sk-container-id-5 div.sk-serial {display: flex;flex-direction: column;align-items: center;background-color: white;padding-right: 0.2em;padding-left: 0.2em;position: relative;}#sk-container-id-5 div.sk-item {position: relative;z-index: 1;}#sk-container-id-5 div.sk-parallel {display: flex;align-items: stretch;justify-content: center;background-color: white;position: relative;}#sk-container-id-5 div.sk-item::before, #sk-container-id-5 div.sk-parallel-item::before {content: \"\";position: absolute;border-left: 1px solid gray;box-sizing: border-box;top: 0;bottom: 0;left: 50%;z-index: -1;}#sk-container-id-5 div.sk-parallel-item {display: flex;flex-direction: column;z-index: 1;position: relative;background-color: white;}#sk-container-id-5 div.sk-parallel-item:first-child::after {align-self: flex-end;width: 50%;}#sk-container-id-5 div.sk-parallel-item:last-child::after {align-self: flex-start;width: 50%;}#sk-container-id-5 div.sk-parallel-item:only-child::after {width: 0;}#sk-container-id-5 div.sk-dashed-wrapped {border: 1px dashed gray;margin: 0 0.4em 0.5em 0.4em;box-sizing: border-box;padding-bottom: 0.4em;background-color: white;}#sk-container-id-5 div.sk-label label {font-family: monospace;font-weight: bold;display: inline-block;line-height: 1.2em;}#sk-container-id-5 div.sk-label-container {text-align: center;}#sk-container-id-5 div.sk-container {/* jupyter's `normalize.less` sets `[hidden] { display: none; }` but bootstrap.min.css set `[hidden] { display: none !important; }` so we also need the `!important` here to be able to override the default hidden behavior on the sphinx rendered scikit-learn.org. See: https://github.com/scikit-learn/scikit-learn/issues/21755 */display: inline-block !important;position: relative;}#sk-container-id-5 div.sk-text-repr-fallback {display: none;}</style><div id=\"sk-container-id-5\" class=\"sk-top-container\"><div class=\"sk-text-repr-fallback\"><pre>Pipeline(steps=[(&#x27;oversampling&#x27;, RandomOverSampler(random_state=42)),\n",
       "                (&#x27;preprocess&#x27;,\n",
       "                 ColumnTransformer(remainder=&#x27;passthrough&#x27;,\n",
       "                                   transformers=[(&#x27;onehot&#x27;,\n",
       "                                                  OneHotEncoder(drop=&#x27;first&#x27;),\n",
       "                                                  [&#x27;housing&#x27;, &#x27;loan&#x27;,\n",
       "                                                   &#x27;contact&#x27;]),\n",
       "                                                 (&#x27;ordinal&#x27;,\n",
       "                                                  OrdinalEncoder(mapping=[{&#x27;col&#x27;: &#x27;campaign&#x27;,\n",
       "                                                                           &#x27;data_type&#x27;: dtype(&#x27;O&#x27;),\n",
       "                                                                           &#x27;mapping&#x27;: 1      0\n",
       "2      1\n",
       "3      2\n",
       "4      3\n",
       "5      4\n",
       "6      5\n",
       "7      6\n",
       "8      7\n",
       "9      8\n",
       "10     9\n",
       "11    10\n",
       "12    11\n",
       "13    12\n",
       "14    13\n",
       "15    14\n",
       "16    15\n",
       "17    16\n",
       "18    17\n",
       "19    18\n",
       "20    19\n",
       "21    20\n",
       "22    21\n",
       "23    22\n",
       "24    23\n",
       "25    24\n",
       "26    25\n",
       "28    26\n",
       "29    27\n",
       "30    28\n",
       "33    29\n",
       "43    30\n",
       "63    31\n",
       "dtype: int64}]),\n",
       "                                                  [&#x27;campaign&#x27;]),\n",
       "                                                 (&#x27;binary&#x27;, BinaryEncoder(),\n",
       "                                                  [&#x27;age&#x27;, &#x27;job&#x27;, &#x27;month&#x27;])])),\n",
       "                (&#x27;model&#x27;,\n",
       "                 LGBMClassifier(max_bin=255, min_data_in_leaf=26,\n",
       "                                num_iterations=65, num_leaves=33,\n",
       "                                random_state=42))])</pre><b>In a Jupyter environment, please rerun this cell to show the HTML representation or trust the notebook. <br />On GitHub, the HTML representation is unable to render, please try loading this page with nbviewer.org.</b></div><div class=\"sk-container\" hidden><div class=\"sk-item sk-dashed-wrapped\"><div class=\"sk-label-container\"><div class=\"sk-label sk-toggleable\"><input class=\"sk-toggleable__control sk-hidden--visually\" id=\"sk-estimator-id-49\" type=\"checkbox\" ><label for=\"sk-estimator-id-49\" class=\"sk-toggleable__label sk-toggleable__label-arrow\">Pipeline</label><div class=\"sk-toggleable__content\"><pre>Pipeline(steps=[(&#x27;oversampling&#x27;, RandomOverSampler(random_state=42)),\n",
       "                (&#x27;preprocess&#x27;,\n",
       "                 ColumnTransformer(remainder=&#x27;passthrough&#x27;,\n",
       "                                   transformers=[(&#x27;onehot&#x27;,\n",
       "                                                  OneHotEncoder(drop=&#x27;first&#x27;),\n",
       "                                                  [&#x27;housing&#x27;, &#x27;loan&#x27;,\n",
       "                                                   &#x27;contact&#x27;]),\n",
       "                                                 (&#x27;ordinal&#x27;,\n",
       "                                                  OrdinalEncoder(mapping=[{&#x27;col&#x27;: &#x27;campaign&#x27;,\n",
       "                                                                           &#x27;data_type&#x27;: dtype(&#x27;O&#x27;),\n",
       "                                                                           &#x27;mapping&#x27;: 1      0\n",
       "2      1\n",
       "3      2\n",
       "4      3\n",
       "5      4\n",
       "6      5\n",
       "7      6\n",
       "8      7\n",
       "9      8\n",
       "10     9\n",
       "11    10\n",
       "12    11\n",
       "13    12\n",
       "14    13\n",
       "15    14\n",
       "16    15\n",
       "17    16\n",
       "18    17\n",
       "19    18\n",
       "20    19\n",
       "21    20\n",
       "22    21\n",
       "23    22\n",
       "24    23\n",
       "25    24\n",
       "26    25\n",
       "28    26\n",
       "29    27\n",
       "30    28\n",
       "33    29\n",
       "43    30\n",
       "63    31\n",
       "dtype: int64}]),\n",
       "                                                  [&#x27;campaign&#x27;]),\n",
       "                                                 (&#x27;binary&#x27;, BinaryEncoder(),\n",
       "                                                  [&#x27;age&#x27;, &#x27;job&#x27;, &#x27;month&#x27;])])),\n",
       "                (&#x27;model&#x27;,\n",
       "                 LGBMClassifier(max_bin=255, min_data_in_leaf=26,\n",
       "                                num_iterations=65, num_leaves=33,\n",
       "                                random_state=42))])</pre></div></div></div><div class=\"sk-serial\"><div class=\"sk-item\"><div class=\"sk-estimator sk-toggleable\"><input class=\"sk-toggleable__control sk-hidden--visually\" id=\"sk-estimator-id-50\" type=\"checkbox\" ><label for=\"sk-estimator-id-50\" class=\"sk-toggleable__label sk-toggleable__label-arrow\">RandomOverSampler</label><div class=\"sk-toggleable__content\"><pre>RandomOverSampler(random_state=42)</pre></div></div></div><div class=\"sk-item sk-dashed-wrapped\"><div class=\"sk-label-container\"><div class=\"sk-label sk-toggleable\"><input class=\"sk-toggleable__control sk-hidden--visually\" id=\"sk-estimator-id-51\" type=\"checkbox\" ><label for=\"sk-estimator-id-51\" class=\"sk-toggleable__label sk-toggleable__label-arrow\">preprocess: ColumnTransformer</label><div class=\"sk-toggleable__content\"><pre>ColumnTransformer(remainder=&#x27;passthrough&#x27;,\n",
       "                  transformers=[(&#x27;onehot&#x27;, OneHotEncoder(drop=&#x27;first&#x27;),\n",
       "                                 [&#x27;housing&#x27;, &#x27;loan&#x27;, &#x27;contact&#x27;]),\n",
       "                                (&#x27;ordinal&#x27;,\n",
       "                                 OrdinalEncoder(mapping=[{&#x27;col&#x27;: &#x27;campaign&#x27;,\n",
       "                                                          &#x27;data_type&#x27;: dtype(&#x27;O&#x27;),\n",
       "                                                          &#x27;mapping&#x27;: 1      0\n",
       "2      1\n",
       "3      2\n",
       "4      3\n",
       "5      4\n",
       "6      5\n",
       "7      6\n",
       "8      7\n",
       "9      8\n",
       "10     9\n",
       "11    10\n",
       "12    11\n",
       "13    12\n",
       "14    13\n",
       "15    14\n",
       "16    15\n",
       "17    16\n",
       "18    17\n",
       "19    18\n",
       "20    19\n",
       "21    20\n",
       "22    21\n",
       "23    22\n",
       "24    23\n",
       "25    24\n",
       "26    25\n",
       "28    26\n",
       "29    27\n",
       "30    28\n",
       "33    29\n",
       "43    30\n",
       "63    31\n",
       "dtype: int64}]),\n",
       "                                 [&#x27;campaign&#x27;]),\n",
       "                                (&#x27;binary&#x27;, BinaryEncoder(),\n",
       "                                 [&#x27;age&#x27;, &#x27;job&#x27;, &#x27;month&#x27;])])</pre></div></div></div><div class=\"sk-parallel\"><div class=\"sk-parallel-item\"><div class=\"sk-item\"><div class=\"sk-label-container\"><div class=\"sk-label sk-toggleable\"><input class=\"sk-toggleable__control sk-hidden--visually\" id=\"sk-estimator-id-52\" type=\"checkbox\" ><label for=\"sk-estimator-id-52\" class=\"sk-toggleable__label sk-toggleable__label-arrow\">onehot</label><div class=\"sk-toggleable__content\"><pre>[&#x27;housing&#x27;, &#x27;loan&#x27;, &#x27;contact&#x27;]</pre></div></div></div><div class=\"sk-serial\"><div class=\"sk-item\"><div class=\"sk-estimator sk-toggleable\"><input class=\"sk-toggleable__control sk-hidden--visually\" id=\"sk-estimator-id-53\" type=\"checkbox\" ><label for=\"sk-estimator-id-53\" class=\"sk-toggleable__label sk-toggleable__label-arrow\">OneHotEncoder</label><div class=\"sk-toggleable__content\"><pre>OneHotEncoder(drop=&#x27;first&#x27;)</pre></div></div></div></div></div></div><div class=\"sk-parallel-item\"><div class=\"sk-item\"><div class=\"sk-label-container\"><div class=\"sk-label sk-toggleable\"><input class=\"sk-toggleable__control sk-hidden--visually\" id=\"sk-estimator-id-54\" type=\"checkbox\" ><label for=\"sk-estimator-id-54\" class=\"sk-toggleable__label sk-toggleable__label-arrow\">ordinal</label><div class=\"sk-toggleable__content\"><pre>[&#x27;campaign&#x27;]</pre></div></div></div><div class=\"sk-serial\"><div class=\"sk-item\"><div class=\"sk-estimator sk-toggleable\"><input class=\"sk-toggleable__control sk-hidden--visually\" id=\"sk-estimator-id-55\" type=\"checkbox\" ><label for=\"sk-estimator-id-55\" class=\"sk-toggleable__label sk-toggleable__label-arrow\">OrdinalEncoder</label><div class=\"sk-toggleable__content\"><pre>OrdinalEncoder(mapping=[{&#x27;col&#x27;: &#x27;campaign&#x27;, &#x27;data_type&#x27;: dtype(&#x27;O&#x27;),\n",
       "                         &#x27;mapping&#x27;: 1      0\n",
       "2      1\n",
       "3      2\n",
       "4      3\n",
       "5      4\n",
       "6      5\n",
       "7      6\n",
       "8      7\n",
       "9      8\n",
       "10     9\n",
       "11    10\n",
       "12    11\n",
       "13    12\n",
       "14    13\n",
       "15    14\n",
       "16    15\n",
       "17    16\n",
       "18    17\n",
       "19    18\n",
       "20    19\n",
       "21    20\n",
       "22    21\n",
       "23    22\n",
       "24    23\n",
       "25    24\n",
       "26    25\n",
       "28    26\n",
       "29    27\n",
       "30    28\n",
       "33    29\n",
       "43    30\n",
       "63    31\n",
       "dtype: int64}])</pre></div></div></div></div></div></div><div class=\"sk-parallel-item\"><div class=\"sk-item\"><div class=\"sk-label-container\"><div class=\"sk-label sk-toggleable\"><input class=\"sk-toggleable__control sk-hidden--visually\" id=\"sk-estimator-id-56\" type=\"checkbox\" ><label for=\"sk-estimator-id-56\" class=\"sk-toggleable__label sk-toggleable__label-arrow\">binary</label><div class=\"sk-toggleable__content\"><pre>[&#x27;age&#x27;, &#x27;job&#x27;, &#x27;month&#x27;]</pre></div></div></div><div class=\"sk-serial\"><div class=\"sk-item\"><div class=\"sk-estimator sk-toggleable\"><input class=\"sk-toggleable__control sk-hidden--visually\" id=\"sk-estimator-id-57\" type=\"checkbox\" ><label for=\"sk-estimator-id-57\" class=\"sk-toggleable__label sk-toggleable__label-arrow\">BinaryEncoder</label><div class=\"sk-toggleable__content\"><pre>BinaryEncoder()</pre></div></div></div></div></div></div><div class=\"sk-parallel-item\"><div class=\"sk-item\"><div class=\"sk-label-container\"><div class=\"sk-label sk-toggleable\"><input class=\"sk-toggleable__control sk-hidden--visually\" id=\"sk-estimator-id-58\" type=\"checkbox\" ><label for=\"sk-estimator-id-58\" class=\"sk-toggleable__label sk-toggleable__label-arrow\">remainder</label><div class=\"sk-toggleable__content\"><pre>[]</pre></div></div></div><div class=\"sk-serial\"><div class=\"sk-item\"><div class=\"sk-estimator sk-toggleable\"><input class=\"sk-toggleable__control sk-hidden--visually\" id=\"sk-estimator-id-59\" type=\"checkbox\" ><label for=\"sk-estimator-id-59\" class=\"sk-toggleable__label sk-toggleable__label-arrow\">passthrough</label><div class=\"sk-toggleable__content\"><pre>passthrough</pre></div></div></div></div></div></div></div></div><div class=\"sk-item\"><div class=\"sk-estimator sk-toggleable\"><input class=\"sk-toggleable__control sk-hidden--visually\" id=\"sk-estimator-id-60\" type=\"checkbox\" ><label for=\"sk-estimator-id-60\" class=\"sk-toggleable__label sk-toggleable__label-arrow\">LGBMClassifier</label><div class=\"sk-toggleable__content\"><pre>LGBMClassifier(max_bin=255, min_data_in_leaf=26, num_iterations=65,\n",
       "               num_leaves=33, random_state=42)</pre></div></div></div></div></div></div></div>"
      ],
      "text/plain": [
       "Pipeline(steps=[('oversampling', RandomOverSampler(random_state=42)),\n",
       "                ('preprocess',\n",
       "                 ColumnTransformer(remainder='passthrough',\n",
       "                                   transformers=[('onehot',\n",
       "                                                  OneHotEncoder(drop='first'),\n",
       "                                                  ['housing', 'loan',\n",
       "                                                   'contact']),\n",
       "                                                 ('ordinal',\n",
       "                                                  OrdinalEncoder(mapping=[{'col': 'campaign',\n",
       "                                                                           'data_type': dtype('O'),\n",
       "                                                                           'mapping': 1      0\n",
       "2      1\n",
       "3      2\n",
       "4      3\n",
       "5      4\n",
       "6      5\n",
       "7      6\n",
       "8      7\n",
       "9      8\n",
       "10     9\n",
       "11    10\n",
       "12    11\n",
       "13    12\n",
       "14    13\n",
       "15    14\n",
       "16    15\n",
       "17    16\n",
       "18    17\n",
       "19    18\n",
       "20    19\n",
       "21    20\n",
       "22    21\n",
       "23    22\n",
       "24    23\n",
       "25    24\n",
       "26    25\n",
       "28    26\n",
       "29    27\n",
       "30    28\n",
       "33    29\n",
       "43    30\n",
       "63    31\n",
       "dtype: int64}]),\n",
       "                                                  ['campaign']),\n",
       "                                                 ('binary', BinaryEncoder(),\n",
       "                                                  ['age', 'job', 'month'])])),\n",
       "                ('model',\n",
       "                 LGBMClassifier(max_bin=255, min_data_in_leaf=26,\n",
       "                                num_iterations=65, num_leaves=33,\n",
       "                                random_state=42))])"
      ]
     },
     "execution_count": 110,
     "metadata": {},
     "output_type": "execute_result"
    }
   ],
   "source": [
    "best_model = grid.best_estimator_ # memasukkan hasil hyperparameter terbaik yang telah ditentukan oleh GridSearchCV\n",
    "best_model.fit(x_train, y_train) # menggunakan training data ke model yang sudah diberikan hyperparameter"
   ]
  },
  {
   "cell_type": "code",
   "execution_count": 111,
   "metadata": {
    "id": "IWIuTaAuQW5_",
    "outputId": "057054d7-2812-4301-c929-cb8638947ff3"
   },
   "outputs": [
    {
     "name": "stdout",
     "output_type": "stream",
     "text": [
      "Warning: No categorical columns found. Calling 'transform' will only return input data.\n"
     ]
    },
    {
     "data": {
      "text/html": [
       "<style>#sk-container-id-6 {color: black;background-color: white;}#sk-container-id-6 pre{padding: 0;}#sk-container-id-6 div.sk-toggleable {background-color: white;}#sk-container-id-6 label.sk-toggleable__label {cursor: pointer;display: block;width: 100%;margin-bottom: 0;padding: 0.3em;box-sizing: border-box;text-align: center;}#sk-container-id-6 label.sk-toggleable__label-arrow:before {content: \"▸\";float: left;margin-right: 0.25em;color: #696969;}#sk-container-id-6 label.sk-toggleable__label-arrow:hover:before {color: black;}#sk-container-id-6 div.sk-estimator:hover label.sk-toggleable__label-arrow:before {color: black;}#sk-container-id-6 div.sk-toggleable__content {max-height: 0;max-width: 0;overflow: hidden;text-align: left;background-color: #f0f8ff;}#sk-container-id-6 div.sk-toggleable__content pre {margin: 0.2em;color: black;border-radius: 0.25em;background-color: #f0f8ff;}#sk-container-id-6 input.sk-toggleable__control:checked~div.sk-toggleable__content {max-height: 200px;max-width: 100%;overflow: auto;}#sk-container-id-6 input.sk-toggleable__control:checked~label.sk-toggleable__label-arrow:before {content: \"▾\";}#sk-container-id-6 div.sk-estimator input.sk-toggleable__control:checked~label.sk-toggleable__label {background-color: #d4ebff;}#sk-container-id-6 div.sk-label input.sk-toggleable__control:checked~label.sk-toggleable__label {background-color: #d4ebff;}#sk-container-id-6 input.sk-hidden--visually {border: 0;clip: rect(1px 1px 1px 1px);clip: rect(1px, 1px, 1px, 1px);height: 1px;margin: -1px;overflow: hidden;padding: 0;position: absolute;width: 1px;}#sk-container-id-6 div.sk-estimator {font-family: monospace;background-color: #f0f8ff;border: 1px dotted black;border-radius: 0.25em;box-sizing: border-box;margin-bottom: 0.5em;}#sk-container-id-6 div.sk-estimator:hover {background-color: #d4ebff;}#sk-container-id-6 div.sk-parallel-item::after {content: \"\";width: 100%;border-bottom: 1px solid gray;flex-grow: 1;}#sk-container-id-6 div.sk-label:hover label.sk-toggleable__label {background-color: #d4ebff;}#sk-container-id-6 div.sk-serial::before {content: \"\";position: absolute;border-left: 1px solid gray;box-sizing: border-box;top: 0;bottom: 0;left: 50%;z-index: 0;}#sk-container-id-6 div.sk-serial {display: flex;flex-direction: column;align-items: center;background-color: white;padding-right: 0.2em;padding-left: 0.2em;position: relative;}#sk-container-id-6 div.sk-item {position: relative;z-index: 1;}#sk-container-id-6 div.sk-parallel {display: flex;align-items: stretch;justify-content: center;background-color: white;position: relative;}#sk-container-id-6 div.sk-item::before, #sk-container-id-6 div.sk-parallel-item::before {content: \"\";position: absolute;border-left: 1px solid gray;box-sizing: border-box;top: 0;bottom: 0;left: 50%;z-index: -1;}#sk-container-id-6 div.sk-parallel-item {display: flex;flex-direction: column;z-index: 1;position: relative;background-color: white;}#sk-container-id-6 div.sk-parallel-item:first-child::after {align-self: flex-end;width: 50%;}#sk-container-id-6 div.sk-parallel-item:last-child::after {align-self: flex-start;width: 50%;}#sk-container-id-6 div.sk-parallel-item:only-child::after {width: 0;}#sk-container-id-6 div.sk-dashed-wrapped {border: 1px dashed gray;margin: 0 0.4em 0.5em 0.4em;box-sizing: border-box;padding-bottom: 0.4em;background-color: white;}#sk-container-id-6 div.sk-label label {font-family: monospace;font-weight: bold;display: inline-block;line-height: 1.2em;}#sk-container-id-6 div.sk-label-container {text-align: center;}#sk-container-id-6 div.sk-container {/* jupyter's `normalize.less` sets `[hidden] { display: none; }` but bootstrap.min.css set `[hidden] { display: none !important; }` so we also need the `!important` here to be able to override the default hidden behavior on the sphinx rendered scikit-learn.org. See: https://github.com/scikit-learn/scikit-learn/issues/21755 */display: inline-block !important;position: relative;}#sk-container-id-6 div.sk-text-repr-fallback {display: none;}</style><div id=\"sk-container-id-6\" class=\"sk-top-container\"><div class=\"sk-text-repr-fallback\"><pre>Pipeline(steps=[(&#x27;oversampling&#x27;, RandomOverSampler(random_state=42)),\n",
       "                (&#x27;preprocess&#x27;,\n",
       "                 ColumnTransformer(remainder=&#x27;passthrough&#x27;,\n",
       "                                   transformers=[(&#x27;onehot&#x27;,\n",
       "                                                  OneHotEncoder(drop=&#x27;first&#x27;),\n",
       "                                                  [&#x27;housing&#x27;, &#x27;loan&#x27;,\n",
       "                                                   &#x27;contact&#x27;]),\n",
       "                                                 (&#x27;ordinal&#x27;,\n",
       "                                                  OrdinalEncoder(mapping=[{&#x27;col&#x27;: &#x27;campaign&#x27;,\n",
       "                                                                           &#x27;data_type&#x27;: dtype(&#x27;O&#x27;),\n",
       "                                                                           &#x27;mapping&#x27;: 1      0\n",
       "2      1\n",
       "3      2\n",
       "4      3\n",
       "5      4\n",
       "6      5\n",
       "7      6\n",
       "8      7\n",
       "9      8\n",
       "10     9\n",
       "11    10\n",
       "12    11\n",
       "13    12\n",
       "14    13\n",
       "15    14\n",
       "16    15\n",
       "17    16\n",
       "18    17\n",
       "19    18\n",
       "20    19\n",
       "21    20\n",
       "22    21\n",
       "23    22\n",
       "24    23\n",
       "25    24\n",
       "26    25\n",
       "28    26\n",
       "29    27\n",
       "30    28\n",
       "33    29\n",
       "43    30\n",
       "63    31\n",
       "dtype: int64}]),\n",
       "                                                  [&#x27;campaign&#x27;]),\n",
       "                                                 (&#x27;binary&#x27;, BinaryEncoder(),\n",
       "                                                  [&#x27;age&#x27;, &#x27;job&#x27;, &#x27;month&#x27;])])),\n",
       "                (&#x27;model&#x27;, LGBMClassifier())])</pre><b>In a Jupyter environment, please rerun this cell to show the HTML representation or trust the notebook. <br />On GitHub, the HTML representation is unable to render, please try loading this page with nbviewer.org.</b></div><div class=\"sk-container\" hidden><div class=\"sk-item sk-dashed-wrapped\"><div class=\"sk-label-container\"><div class=\"sk-label sk-toggleable\"><input class=\"sk-toggleable__control sk-hidden--visually\" id=\"sk-estimator-id-61\" type=\"checkbox\" ><label for=\"sk-estimator-id-61\" class=\"sk-toggleable__label sk-toggleable__label-arrow\">Pipeline</label><div class=\"sk-toggleable__content\"><pre>Pipeline(steps=[(&#x27;oversampling&#x27;, RandomOverSampler(random_state=42)),\n",
       "                (&#x27;preprocess&#x27;,\n",
       "                 ColumnTransformer(remainder=&#x27;passthrough&#x27;,\n",
       "                                   transformers=[(&#x27;onehot&#x27;,\n",
       "                                                  OneHotEncoder(drop=&#x27;first&#x27;),\n",
       "                                                  [&#x27;housing&#x27;, &#x27;loan&#x27;,\n",
       "                                                   &#x27;contact&#x27;]),\n",
       "                                                 (&#x27;ordinal&#x27;,\n",
       "                                                  OrdinalEncoder(mapping=[{&#x27;col&#x27;: &#x27;campaign&#x27;,\n",
       "                                                                           &#x27;data_type&#x27;: dtype(&#x27;O&#x27;),\n",
       "                                                                           &#x27;mapping&#x27;: 1      0\n",
       "2      1\n",
       "3      2\n",
       "4      3\n",
       "5      4\n",
       "6      5\n",
       "7      6\n",
       "8      7\n",
       "9      8\n",
       "10     9\n",
       "11    10\n",
       "12    11\n",
       "13    12\n",
       "14    13\n",
       "15    14\n",
       "16    15\n",
       "17    16\n",
       "18    17\n",
       "19    18\n",
       "20    19\n",
       "21    20\n",
       "22    21\n",
       "23    22\n",
       "24    23\n",
       "25    24\n",
       "26    25\n",
       "28    26\n",
       "29    27\n",
       "30    28\n",
       "33    29\n",
       "43    30\n",
       "63    31\n",
       "dtype: int64}]),\n",
       "                                                  [&#x27;campaign&#x27;]),\n",
       "                                                 (&#x27;binary&#x27;, BinaryEncoder(),\n",
       "                                                  [&#x27;age&#x27;, &#x27;job&#x27;, &#x27;month&#x27;])])),\n",
       "                (&#x27;model&#x27;, LGBMClassifier())])</pre></div></div></div><div class=\"sk-serial\"><div class=\"sk-item\"><div class=\"sk-estimator sk-toggleable\"><input class=\"sk-toggleable__control sk-hidden--visually\" id=\"sk-estimator-id-62\" type=\"checkbox\" ><label for=\"sk-estimator-id-62\" class=\"sk-toggleable__label sk-toggleable__label-arrow\">RandomOverSampler</label><div class=\"sk-toggleable__content\"><pre>RandomOverSampler(random_state=42)</pre></div></div></div><div class=\"sk-item sk-dashed-wrapped\"><div class=\"sk-label-container\"><div class=\"sk-label sk-toggleable\"><input class=\"sk-toggleable__control sk-hidden--visually\" id=\"sk-estimator-id-63\" type=\"checkbox\" ><label for=\"sk-estimator-id-63\" class=\"sk-toggleable__label sk-toggleable__label-arrow\">preprocess: ColumnTransformer</label><div class=\"sk-toggleable__content\"><pre>ColumnTransformer(remainder=&#x27;passthrough&#x27;,\n",
       "                  transformers=[(&#x27;onehot&#x27;, OneHotEncoder(drop=&#x27;first&#x27;),\n",
       "                                 [&#x27;housing&#x27;, &#x27;loan&#x27;, &#x27;contact&#x27;]),\n",
       "                                (&#x27;ordinal&#x27;,\n",
       "                                 OrdinalEncoder(mapping=[{&#x27;col&#x27;: &#x27;campaign&#x27;,\n",
       "                                                          &#x27;data_type&#x27;: dtype(&#x27;O&#x27;),\n",
       "                                                          &#x27;mapping&#x27;: 1      0\n",
       "2      1\n",
       "3      2\n",
       "4      3\n",
       "5      4\n",
       "6      5\n",
       "7      6\n",
       "8      7\n",
       "9      8\n",
       "10     9\n",
       "11    10\n",
       "12    11\n",
       "13    12\n",
       "14    13\n",
       "15    14\n",
       "16    15\n",
       "17    16\n",
       "18    17\n",
       "19    18\n",
       "20    19\n",
       "21    20\n",
       "22    21\n",
       "23    22\n",
       "24    23\n",
       "25    24\n",
       "26    25\n",
       "28    26\n",
       "29    27\n",
       "30    28\n",
       "33    29\n",
       "43    30\n",
       "63    31\n",
       "dtype: int64}]),\n",
       "                                 [&#x27;campaign&#x27;]),\n",
       "                                (&#x27;binary&#x27;, BinaryEncoder(),\n",
       "                                 [&#x27;age&#x27;, &#x27;job&#x27;, &#x27;month&#x27;])])</pre></div></div></div><div class=\"sk-parallel\"><div class=\"sk-parallel-item\"><div class=\"sk-item\"><div class=\"sk-label-container\"><div class=\"sk-label sk-toggleable\"><input class=\"sk-toggleable__control sk-hidden--visually\" id=\"sk-estimator-id-64\" type=\"checkbox\" ><label for=\"sk-estimator-id-64\" class=\"sk-toggleable__label sk-toggleable__label-arrow\">onehot</label><div class=\"sk-toggleable__content\"><pre>[&#x27;housing&#x27;, &#x27;loan&#x27;, &#x27;contact&#x27;]</pre></div></div></div><div class=\"sk-serial\"><div class=\"sk-item\"><div class=\"sk-estimator sk-toggleable\"><input class=\"sk-toggleable__control sk-hidden--visually\" id=\"sk-estimator-id-65\" type=\"checkbox\" ><label for=\"sk-estimator-id-65\" class=\"sk-toggleable__label sk-toggleable__label-arrow\">OneHotEncoder</label><div class=\"sk-toggleable__content\"><pre>OneHotEncoder(drop=&#x27;first&#x27;)</pre></div></div></div></div></div></div><div class=\"sk-parallel-item\"><div class=\"sk-item\"><div class=\"sk-label-container\"><div class=\"sk-label sk-toggleable\"><input class=\"sk-toggleable__control sk-hidden--visually\" id=\"sk-estimator-id-66\" type=\"checkbox\" ><label for=\"sk-estimator-id-66\" class=\"sk-toggleable__label sk-toggleable__label-arrow\">ordinal</label><div class=\"sk-toggleable__content\"><pre>[&#x27;campaign&#x27;]</pre></div></div></div><div class=\"sk-serial\"><div class=\"sk-item\"><div class=\"sk-estimator sk-toggleable\"><input class=\"sk-toggleable__control sk-hidden--visually\" id=\"sk-estimator-id-67\" type=\"checkbox\" ><label for=\"sk-estimator-id-67\" class=\"sk-toggleable__label sk-toggleable__label-arrow\">OrdinalEncoder</label><div class=\"sk-toggleable__content\"><pre>OrdinalEncoder(mapping=[{&#x27;col&#x27;: &#x27;campaign&#x27;, &#x27;data_type&#x27;: dtype(&#x27;O&#x27;),\n",
       "                         &#x27;mapping&#x27;: 1      0\n",
       "2      1\n",
       "3      2\n",
       "4      3\n",
       "5      4\n",
       "6      5\n",
       "7      6\n",
       "8      7\n",
       "9      8\n",
       "10     9\n",
       "11    10\n",
       "12    11\n",
       "13    12\n",
       "14    13\n",
       "15    14\n",
       "16    15\n",
       "17    16\n",
       "18    17\n",
       "19    18\n",
       "20    19\n",
       "21    20\n",
       "22    21\n",
       "23    22\n",
       "24    23\n",
       "25    24\n",
       "26    25\n",
       "28    26\n",
       "29    27\n",
       "30    28\n",
       "33    29\n",
       "43    30\n",
       "63    31\n",
       "dtype: int64}])</pre></div></div></div></div></div></div><div class=\"sk-parallel-item\"><div class=\"sk-item\"><div class=\"sk-label-container\"><div class=\"sk-label sk-toggleable\"><input class=\"sk-toggleable__control sk-hidden--visually\" id=\"sk-estimator-id-68\" type=\"checkbox\" ><label for=\"sk-estimator-id-68\" class=\"sk-toggleable__label sk-toggleable__label-arrow\">binary</label><div class=\"sk-toggleable__content\"><pre>[&#x27;age&#x27;, &#x27;job&#x27;, &#x27;month&#x27;]</pre></div></div></div><div class=\"sk-serial\"><div class=\"sk-item\"><div class=\"sk-estimator sk-toggleable\"><input class=\"sk-toggleable__control sk-hidden--visually\" id=\"sk-estimator-id-69\" type=\"checkbox\" ><label for=\"sk-estimator-id-69\" class=\"sk-toggleable__label sk-toggleable__label-arrow\">BinaryEncoder</label><div class=\"sk-toggleable__content\"><pre>BinaryEncoder()</pre></div></div></div></div></div></div><div class=\"sk-parallel-item\"><div class=\"sk-item\"><div class=\"sk-label-container\"><div class=\"sk-label sk-toggleable\"><input class=\"sk-toggleable__control sk-hidden--visually\" id=\"sk-estimator-id-70\" type=\"checkbox\" ><label for=\"sk-estimator-id-70\" class=\"sk-toggleable__label sk-toggleable__label-arrow\">remainder</label><div class=\"sk-toggleable__content\"><pre>[]</pre></div></div></div><div class=\"sk-serial\"><div class=\"sk-item\"><div class=\"sk-estimator sk-toggleable\"><input class=\"sk-toggleable__control sk-hidden--visually\" id=\"sk-estimator-id-71\" type=\"checkbox\" ><label for=\"sk-estimator-id-71\" class=\"sk-toggleable__label sk-toggleable__label-arrow\">passthrough</label><div class=\"sk-toggleable__content\"><pre>passthrough</pre></div></div></div></div></div></div></div></div><div class=\"sk-item\"><div class=\"sk-estimator sk-toggleable\"><input class=\"sk-toggleable__control sk-hidden--visually\" id=\"sk-estimator-id-72\" type=\"checkbox\" ><label for=\"sk-estimator-id-72\" class=\"sk-toggleable__label sk-toggleable__label-arrow\">LGBMClassifier</label><div class=\"sk-toggleable__content\"><pre>LGBMClassifier()</pre></div></div></div></div></div></div></div>"
      ],
      "text/plain": [
       "Pipeline(steps=[('oversampling', RandomOverSampler(random_state=42)),\n",
       "                ('preprocess',\n",
       "                 ColumnTransformer(remainder='passthrough',\n",
       "                                   transformers=[('onehot',\n",
       "                                                  OneHotEncoder(drop='first'),\n",
       "                                                  ['housing', 'loan',\n",
       "                                                   'contact']),\n",
       "                                                 ('ordinal',\n",
       "                                                  OrdinalEncoder(mapping=[{'col': 'campaign',\n",
       "                                                                           'data_type': dtype('O'),\n",
       "                                                                           'mapping': 1      0\n",
       "2      1\n",
       "3      2\n",
       "4      3\n",
       "5      4\n",
       "6      5\n",
       "7      6\n",
       "8      7\n",
       "9      8\n",
       "10     9\n",
       "11    10\n",
       "12    11\n",
       "13    12\n",
       "14    13\n",
       "15    14\n",
       "16    15\n",
       "17    16\n",
       "18    17\n",
       "19    18\n",
       "20    19\n",
       "21    20\n",
       "22    21\n",
       "23    22\n",
       "24    23\n",
       "25    24\n",
       "26    25\n",
       "28    26\n",
       "29    27\n",
       "30    28\n",
       "33    29\n",
       "43    30\n",
       "63    31\n",
       "dtype: int64}]),\n",
       "                                                  ['campaign']),\n",
       "                                                 ('binary', BinaryEncoder(),\n",
       "                                                  ['age', 'job', 'month'])])),\n",
       "                ('model', LGBMClassifier())])"
      ]
     },
     "execution_count": 111,
     "metadata": {},
     "output_type": "execute_result"
    }
   ],
   "source": [
    "estimator = Pipeline([\n",
    "    ('oversampling', ros),\n",
    "    ('preprocess', transformer),\n",
    "    ('model', lgbm)\n",
    "])\n",
    "estimator.fit(x_train, y_train)"
   ]
  },
  {
   "cell_type": "code",
   "execution_count": 112,
   "metadata": {
    "id": "5a68EW2LQW5_",
    "outputId": "06493769-77b2-45fd-f00c-1bc2e6c1bc97"
   },
   "outputs": [
    {
     "name": "stdout",
     "output_type": "stream",
     "text": [
      "ROC AUC score default LGBM :  0.7358478029766122\n",
      "ROC AUC score tuned LGBM :  0.7434287804814028\n"
     ]
    }
   ],
   "source": [
    "y_pred_default = estimator.predict(x_test)\n",
    "y_pred_proba_default = estimator.predict_proba(x_test)\n",
    "y_pred_tuned = best_model.predict(x_test)\n",
    "y_pred_proba_tuned = best_model.predict_proba(x_test)\n",
    "\n",
    "roc_auc_default = roc_auc_score(y_test, y_pred_proba_default[:,1])\n",
    "roc_auc_tuned = roc_auc_score(y_test, y_pred_proba_tuned[:,1])\n",
    "\n",
    "print('ROC AUC score default LGBM : ', roc_auc_default)\n",
    "print('ROC AUC score tuned LGBM : ', roc_auc_tuned)"
   ]
  },
  {
   "cell_type": "markdown",
   "metadata": {
    "id": "FOZObuZbQW5_"
   },
   "source": [
    "Setelah dilakukan hyperparameter tuning, model LightGBM memiliki nilai ROC AUC yang lebih baik walaupun hanya naik sedikit saja.\n",
    "\n",
    "Kita coba untuk melihat perbandingan classification report-nya."
   ]
  },
  {
   "cell_type": "code",
   "execution_count": 113,
   "metadata": {
    "id": "dR-1UF5UQW5_",
    "outputId": "03bc2e6e-adf1-4472-ca7e-69bea8f11e5f"
   },
   "outputs": [
    {
     "name": "stdout",
     "output_type": "stream",
     "text": [
      "Classification Report Default LGBM : \n",
      "               precision    recall  f1-score   support\n",
      "\n",
      "           0       0.68      0.72      0.70       816\n",
      "           1       0.67      0.62      0.65       747\n",
      "\n",
      "    accuracy                           0.67      1563\n",
      "   macro avg       0.67      0.67      0.67      1563\n",
      "weighted avg       0.67      0.67      0.67      1563\n",
      "\n",
      "Classification Report Tuned LGBM : \n",
      "               precision    recall  f1-score   support\n",
      "\n",
      "           0       0.68      0.75      0.71       816\n",
      "           1       0.69      0.62      0.65       747\n",
      "\n",
      "    accuracy                           0.69      1563\n",
      "   macro avg       0.69      0.68      0.68      1563\n",
      "weighted avg       0.69      0.69      0.68      1563\n",
      "\n"
     ]
    }
   ],
   "source": [
    "report_default = classification_report(y_test, y_pred_default)\n",
    "report_tuned = classification_report(y_test, y_pred_tuned)\n",
    "\n",
    "print('Classification Report Default LGBM : \\n', report_default)\n",
    "print('Classification Report Tuned LGBM : \\n', report_tuned)"
   ]
  },
  {
   "cell_type": "markdown",
   "metadata": {
    "id": "zk8_NGXKQW5_"
   },
   "source": [
    "Berdasarkan hasil classification report, model LightGBM yang telah dilakukan hyperparameter tuning lebih baik dibandingkan model LightGBM yang menggunakan hyperparameter default, walaupun hanya sedikit lebih baik saja. Oleh karena itu kita akan menggunakan model LightGBM yang sudah dilakukan hyperparameter tuning sebagai model akhir."
   ]
  },
  {
   "cell_type": "markdown",
   "metadata": {
    "id": "e4McazubQW6A"
   },
   "source": [
    "### Feature Importances\n",
    "\n",
    "Kita harus melihat fitur/kolom apa saja yang paling penting untuk model LightGBM yang akan kita gunakan."
   ]
  },
  {
   "cell_type": "code",
   "execution_count": 118,
   "metadata": {
    "id": "6tZyc2ucQW6A",
    "outputId": "d55dd312-5566-4624-8f94-a85f38aa6fa9"
   },
   "outputs": [
    {
     "data": {
      "image/png": "[encoded data removed]",
      "text/plain": [
       "<Figure size 640x480 with 1 Axes>"
      ]
     },
     "metadata": {},
     "output_type": "display_data"
    }
   ],
   "source": [
    "coef1 = pd.Series(best_model['model'].feature_importances_, transformer.get_feature_names_out()).sort_values(ascending = False).head(10)\n",
    "coef1.plot(kind='barh', title='Feature Importances')\n",
    "plt.show()"
   ]
  },
  {
   "cell_type": "markdown",
   "metadata": {
    "id": "5D-joUWvQW6A"
   },
   "source": [
    "Dari barplot di atas, fitur/kolom yang paling penting untuk model LightGBM kita adalah binary_age, kemudian diikuti dengan ordinal_campaign, binary_month_3, dan seterusnya."
   ]
  },
  {
   "cell_type": "markdown",
   "metadata": {
    "id": "nrdP9x0xQW6A"
   },
   "source": [
    "## Kesimpulan dan Rekomendasi"
   ]
  },
  {
   "cell_type": "markdown",
   "metadata": {},
   "source": [
    "### Kesimpulan"
   ]
  },
  {
   "cell_type": "code",
   "execution_count": 119,
   "metadata": {
    "id": "mi91uqDpQW6A",
    "outputId": "f64adac8-fa09-4fd9-9bb9-aa60d1e1a49b"
   },
   "outputs": [
    {
     "name": "stdout",
     "output_type": "stream",
     "text": [
      "Classification Report Tuned LGBM : \n",
      "               precision    recall  f1-score   support\n",
      "\n",
      "           0       0.68      0.75      0.71       816\n",
      "           1       0.69      0.62      0.65       747\n",
      "\n",
      "    accuracy                           0.69      1563\n",
      "   macro avg       0.69      0.68      0.68      1563\n",
      "weighted avg       0.69      0.69      0.68      1563\n",
      "\n"
     ]
    }
   ],
   "source": [
    "print('Classification Report Tuned LGBM : \\n', report_tuned)"
   ]
  },
  {
   "cell_type": "markdown",
   "metadata": {
    "id": "Rq6NTiEsQW6A"
   },
   "source": [
    "Berdasarkan hasil classification report model yang telah dibuat, kita dapat menyimpulkan/mengambil konklusi bahwa bila seandainya nanti kita menggunakan model tersebut untuk memfilter/menyaring daftar nasabah yang akan kita coba kontak pada saat *marketing campaign*, maka model machine learning yang telah dibuat dapat mengurangi 75% jumlah nasabah yang tidak tertarik dengan produk deposito berjangka dan dapat meprediksi 62% dari jumlah nasabah yang tertarik dengan deposito berjangka. Persentase ini diambil dari skor recall yang ditunjukkan oleh **Classification Report Tuned LGBM**.\n",
    "\n",
    "Terkait precision, model machine learning yang telah dibuat memiliki ketepatan prediksi nasabah yang tertarik dengan deposito berjangka sebesar 69%. Jadi, setiap kali model memprediksi bahwa seorang nasabah tertarik dengan deposito berjangka setelah diberikan *marketing campaign*, maka kurang lebih 69% prediksi terhadap nasabah tersebut adalah benar. Namun, berdasarkan hasil recall masih ada nasabah yang sebenarnya tidak tertarik dengan deposito berjangka tetapi diprediksi oleh model sebagai nasabah yang tertarik dengan deposito berjangka (False Positive) di mana angkanya berkisar 25% dari keseluruhan nasabah yang tidak tertarik dengan deposito berjangka.\n",
    "\n",
    "Dengan menggunakan data biaya per nasabah untuk *marketing campaign* sebelumnya yang diberikan oleh Tim Marketing Bank XYZ kepada Tim *Data Analysis*, yakni sebesar 500 USD, serta dengan estimasi jumlah nasabah yang dimiliki oleh Bank XYZ sebanyak 200 orang, di mana dianggap 100 orang tertarik dengan deposito berjangka dan 100 orang lagi tidak tertarik dengan deposito berjangka, maka perhitungannya kira-kira akan seperti di bawah ini.\n",
    "\n",
    "Tanpa model (semua nasabah ditawarkan deposito berjangka) :\n",
    "- Total biaya *marketing campaign* = 200 x 500 USD = 100,000 USD\n",
    "- Total nasabah yang ditawari dan tertarik untuk mengambil deposito berjangka = 100 orang (semua nasabah diberikan *marketing campaign*)\n",
    "- Total nasabah yang tidak ditawari tetapi tertarik untuk mengambil deposito berjangka = 0 orang (semua nasabah diberikan *marketing campaign*)\n",
    "- Biaya *marketing campaign* yang terbuang = 100 x 500 USD = 50,000 USD (100 nasabah yang ditawari deposito berjangka menolak)\n",
    "- Jumlah penghematan biaya *marketing campaign* = 0 USD\n",
    "\n",
    "Dengan model machine learning (hanya menawari deposito berjangka kepada nasabah yang diprediksi \"akan tertarik\" oleh model):\n",
    "- Total biaya *marketing campaign* = (62 x 500 USD) + (25 x 500 USD) = 31,000 USD + 12,500 USD = 43,500 USD\n",
    "- Total nasabah yang ditawari dan tertarik untuk mengambil deposito berjangka = 62 orang (berdasarkan skor recall dari model dengan hasil prediksi \"akan tertarik\" sebesar 62%)\n",
    "- Total nasabah yang tidak ditawari tetapi tertarik untuk mengambil deposito berjangka = 38 orang (berdasarkan selisih dari skor recall dari model dengan hasil prediksi \"akan tertarik\" sebesar 62%)\n",
    "- Biaya *marketing campaign* yang terbuang = 25 x 500 USD = 12,500 USD (berdasarkan selisih dari skor recall dari model dengan hasil prediksi \"tidak tertarik\" sebesar 75%)\n",
    "- Jumlah penghematan biaya *marketing campaign* = 75 x 500 USD = 37,500 USD (berdasarkan skor recall dari model dengan hasil prediksi \"tidak tertarik\" sebesar 75%)\n",
    "\n",
    "Berdasarkan contoh perhitungan di atas, dengan menggunakan model machine learning yang telah dibuat, maka Bank XYZ dapat menghemat biaya yang cukup signifikan dalam upaya *marketing campaign* karena menargetkan nasabah-nasabah tertentu yang cenderung akan tertarik untuk membuka deposito berjangka daripada langsung mengontak semua nasabah Bank XYZ yang ada."
   ]
  },
  {
   "cell_type": "markdown",
   "metadata": {
    "id": "Y3VcBfVtQW6B"
   },
   "source": [
    "### Recommendation"
   ]
  },
  {
   "cell_type": "markdown",
   "metadata": {
    "id": "wNzvTXMCQW6B"
   },
   "source": [
    "Berikut ini adalah beberapa rekomendasi untuk mengembangkan project dan model machine learning agar prediksi terkait perlakuan *marketing campaign* bisa lebih optimal:\n",
    "- Data \"unknown\" pada kolom `job` dan `contact` sebisa mungkin diminimalisir atau derngan menambah kategori baru untuk kedua kolom tersebut agar bisa merepresentasikan data sebenarnya dari data \"unknown\" tersebut, misalkan di kolom `job` ditambahkan jenis pekerjaan sepeti 'private sector employee' dan 'civil servant' dan untuk kolom `contact` bisa ditambahkan kategori \"email\" dan \"direct approach\".\n",
    "- Fitur atau kolom baru yang kemungkinan besar berhubungan dengan ketertarikan nasabah terhadap deposito berjangka bisa ditambahkan ke dalam dataset tetapi dengan jumlah data *unique* yang tidak terlewat besar seperti `balance` dan `poutcome`, contohnya \"status pernikahan\" dan \"range gaji/penghasilan per bulan\".\n",
    "- Dari segi permodelan, algorithm machine learning yang lain bisa dicoba untuk mebandingkan tingkat hasil prediksi disertai dengan mencoba hyperparameter tuning kembali. Selain itu, kita bisa menggunakan teknik oversampling yang berbeda selain dari Random Over Sampling, seperti SMOTE-NC.\n",
    "- Data nasabah yang akan digunakan untuk permodelan bisa ditambah agar menaikkan accuracy dari model yang dibuat dan mengurangi overfitting.\n",
    "- Kita bisa menganalisa kembali data nasabah yang salah tebak, misalkan setelah dilakukan *marketing campaign*, seorang nasabah yang diprediksi model machine learning akan tertarik dengan deposito berjangka ternyata nasabah tersebut tidak tertarik. Data nasabah yang salah tebak ini bisa dicari tahu alasan mengapa nasabah tersebut menolak dan mungkin saja bisa dijadikan sebagai feature baru \"alasan menolak/tidak tertarik\"."
   ]
  },
  {
   "cell_type": "markdown",
   "metadata": {
    "id": "2OB45zZvQW6B"
   },
   "source": [
    "### Thank You"
   ]
  }
 ],
 "metadata": {
  "colab": {
   "provenance": []
  },
  "kernelspec": {
   "display_name": "Python 3 (ipykernel)",
   "language": "python",
   "name": "python3"
  },
  "language_info": {
   "codemirror_mode": {
    "name": "ipython",
    "version": 3
   },
   "file_extension": ".py",
   "mimetype": "text/x-python",
   "name": "python",
   "nbconvert_exporter": "python",
   "pygments_lexer": "ipython3",
   "version": "3.11.4"
  }
 },
 "nbformat": 4,
 "nbformat_minor": 1
}
